{
 "cells": [
  {
   "cell_type": "markdown",
   "metadata": {},
   "source": [
    "# Tensorboard Visualization\n",
    "In this notebook, I use a sample text-sentiment-classification model to build familiarity with TensorBoard, a model visualization framework packaged as part of TensorFlow."
   ]
  },
  {
   "cell_type": "code",
   "execution_count": 1,
   "metadata": {},
   "outputs": [],
   "source": [
    "import tensorflow as tf\n",
    "from tensorflow.keras import models, layers\n",
    "from tensorflow.keras.datasets import imdb\n",
    "from tensorflow.keras.preprocessing import sequence\n",
    "from tensorflow.keras.utils import plot_model\n",
    "import os\n",
    "import numpy as np\n",
    "\n",
    "# Tensorboard notebook extension\n",
    "%load_ext tensorboard"
   ]
  },
  {
   "cell_type": "code",
   "execution_count": 2,
   "metadata": {},
   "outputs": [
    {
     "name": "stdout",
     "output_type": "stream",
     "text": [
      "Model: \"sequential\"\n",
      "_________________________________________________________________\n",
      "Layer (type)                 Output Shape              Param #   \n",
      "=================================================================\n",
      "embed (Embedding)            (None, 500, 128)          256000    \n",
      "_________________________________________________________________\n",
      "conv1d (Conv1D)              (None, 494, 32)           28704     \n",
      "_________________________________________________________________\n",
      "max_pooling1d (MaxPooling1D) (None, 98, 32)            0         \n",
      "_________________________________________________________________\n",
      "conv1d_1 (Conv1D)            (None, 92, 32)            7200      \n",
      "_________________________________________________________________\n",
      "global_max_pooling1d (Global (None, 32)                0         \n",
      "_________________________________________________________________\n",
      "dense (Dense)                (None, 1)                 33        \n",
      "=================================================================\n",
      "Total params: 291,937\n",
      "Trainable params: 291,937\n",
      "Non-trainable params: 0\n",
      "_________________________________________________________________\n"
     ]
    }
   ],
   "source": [
    "# Text-classification model\n",
    "max_features = 2000\n",
    "max_len = 500\n",
    "\n",
    "(x_train, y_train), (x_test, y_test) = imdb.load_data(num_words=max_features)\n",
    "x_train = sequence.pad_sequences(x_train, maxlen=max_len)\n",
    "x_test = sequence.pad_sequences(x_test, maxlen=max_len)\n",
    "\n",
    "model = models.Sequential()\n",
    "model.add(layers.Embedding(max_features, 128,\n",
    "                           input_length=max_len,\n",
    "                           name='embed'))\n",
    "model.add(layers.Conv1D(32, 7, activation='relu'))\n",
    "model.add(layers.MaxPooling1D(5))\n",
    "model.add(layers.Conv1D(32, 7, activation='relu'))\n",
    "model.add(layers.GlobalMaxPooling1D())\n",
    "model.add(layers.Dense(1, activation='sigmoid'))\n",
    "\n",
    "model.compile(\n",
    "    optimizer='rmsprop',\n",
    "    loss='binary_crossentropy',\n",
    "    metrics=['acc']\n",
    ")\n",
    "\n",
    "model.summary()"
   ]
  },
  {
   "cell_type": "code",
   "execution_count": 3,
   "metadata": {},
   "outputs": [],
   "source": [
    "# Directory to store tensorboard logs\n",
    "!mkdir log_dir"
   ]
  },
  {
   "cell_type": "code",
   "execution_count": 4,
   "metadata": {},
   "outputs": [
    {
     "name": "stdout",
     "output_type": "stream",
     "text": [
      "D:\\Jason\\Documents\\Github\\Deep-Learning-Python\\Advanced-Functionality\\log_dir\n"
     ]
    }
   ],
   "source": [
    "pwd = os.getcwd()\n",
    "my_logs_dir = os.path.join(pwd, 'log_dir')\n",
    "print(my_logs_dir)"
   ]
  },
  {
   "cell_type": "markdown",
   "metadata": {},
   "source": [
    "Next we launch TensorBoard from the command line with the command below and navigate to http://localhost:6006/\n",
    "\n",
    "    tensorboard --logdir PATH_TO_LOGS"
   ]
  },
  {
   "cell_type": "code",
   "execution_count": 5,
   "metadata": {},
   "outputs": [],
   "source": [
    "# %tensorboard --logdir {my_logs_dir}"
   ]
  },
  {
   "cell_type": "code",
   "execution_count": 8,
   "metadata": {},
   "outputs": [
    {
     "name": "stdout",
     "output_type": "stream",
     "text": [
      "Train on 20000 samples, validate on 5000 samples\n",
      "Epoch 1/20\n",
      "20000/20000 [==============================] - 10s 515us/sample - loss: 0.5372 - acc: 0.7106 - val_loss: 0.3691 - val_acc: 0.8420\n",
      "Epoch 2/20\n",
      "20000/20000 [==============================] - 7s 367us/sample - loss: 0.3322 - acc: 0.8566 - val_loss: 0.3243 - val_acc: 0.8604\n",
      "Epoch 3/20\n",
      "20000/20000 [==============================] - 7s 371us/sample - loss: 0.2838 - acc: 0.8831 - val_loss: 0.3313 - val_acc: 0.8582\n",
      "Epoch 4/20\n",
      "20000/20000 [==============================] - 8s 398us/sample - loss: 0.2496 - acc: 0.9006 - val_loss: 0.3295 - val_acc: 0.8668\n",
      "Epoch 5/20\n",
      "20000/20000 [==============================] - 7s 371us/sample - loss: 0.2205 - acc: 0.9144 - val_loss: 0.3783 - val_acc: 0.8460\n",
      "Epoch 6/20\n",
      "20000/20000 [==============================] - 6s 322us/sample - loss: 0.1884 - acc: 0.9285 - val_loss: 0.4808 - val_acc: 0.8180\n",
      "Epoch 7/20\n",
      "20000/20000 [==============================] - 6s 320us/sample - loss: 0.1569 - acc: 0.9430 - val_loss: 0.3646 - val_acc: 0.8586\n",
      "Epoch 8/20\n",
      "20000/20000 [==============================] - 6s 317us/sample - loss: 0.1272 - acc: 0.9589 - val_loss: 0.3860 - val_acc: 0.8588\n",
      "Epoch 9/20\n",
      "20000/20000 [==============================] - 7s 350us/sample - loss: 0.0948 - acc: 0.9725 - val_loss: 0.4895 - val_acc: 0.8406\n",
      "Epoch 10/20\n",
      "20000/20000 [==============================] - 7s 373us/sample - loss: 0.0677 - acc: 0.9822 - val_loss: 0.5060 - val_acc: 0.8424\n",
      "Epoch 11/20\n",
      "20000/20000 [==============================] - 7s 367us/sample - loss: 0.0432 - acc: 0.9903 - val_loss: 0.5665 - val_acc: 0.8424\n",
      "Epoch 12/20\n",
      "20000/20000 [==============================] - 7s 374us/sample - loss: 0.0283 - acc: 0.9944 - val_loss: 0.5296 - val_acc: 0.8562\n",
      "Epoch 13/20\n",
      "20000/20000 [==============================] - 7s 375us/sample - loss: 0.0165 - acc: 0.9973 - val_loss: 0.5911 - val_acc: 0.8534\n",
      "Epoch 14/20\n",
      "20000/20000 [==============================] - 7s 371us/sample - loss: 0.0101 - acc: 0.9983 - val_loss: 0.6371 - val_acc: 0.8556\n",
      "Epoch 15/20\n",
      "20000/20000 [==============================] - 7s 365us/sample - loss: 0.0060 - acc: 0.9992 - val_loss: 0.7149 - val_acc: 0.8518\n",
      "Epoch 16/20\n",
      "20000/20000 [==============================] - 7s 374us/sample - loss: 0.0036 - acc: 0.9995 - val_loss: 0.7530 - val_acc: 0.8528\n",
      "Epoch 17/20\n",
      "20000/20000 [==============================] - 8s 385us/sample - loss: 0.0023 - acc: 0.9998 - val_loss: 0.7928 - val_acc: 0.8546\n",
      "Epoch 18/20\n",
      "20000/20000 [==============================] - 8s 381us/sample - loss: 0.0019 - acc: 0.9997 - val_loss: 0.8639 - val_acc: 0.8522\n",
      "Epoch 19/20\n",
      "20000/20000 [==============================] - 7s 374us/sample - loss: 0.0014 - acc: 0.9999 - val_loss: 0.8631 - val_acc: 0.8570\n",
      "Epoch 20/20\n",
      "20000/20000 [==============================] - 7s 372us/sample - loss: 8.3323e-04 - acc: 0.9998 - val_loss: 0.9455 - val_acc: 0.8540\n"
     ]
    }
   ],
   "source": [
    "# Configure tensorboard callback\n",
    "tb = tf.keras.callbacks.TensorBoard(\n",
    "    log_dir='log_dir',\n",
    "    histogram_freq=1,\n",
    "    embeddings_freq=1\n",
    "#    profile_batch = 0,\n",
    "#    embeddings_data = np.arange(0,max_features)\n",
    ")\n",
    "\n",
    "# Train model\n",
    "history = model.fit(\n",
    "    x_train,\n",
    "    y_train,\n",
    "    epochs=20,\n",
    "    batch_size=128,\n",
    "    validation_split=0.2,\n",
    "    callbacks=[tb]\n",
    ")"
   ]
  },
  {
   "cell_type": "code",
   "execution_count": null,
   "metadata": {},
   "outputs": [],
   "source": []
  }
 ],
 "metadata": {
  "kernelspec": {
   "display_name": "Python 3",
   "language": "python",
   "name": "python3"
  },
  "language_info": {
   "codemirror_mode": {
    "name": "ipython",
    "version": 3
   },
   "file_extension": ".py",
   "mimetype": "text/x-python",
   "name": "python",
   "nbconvert_exporter": "python",
   "pygments_lexer": "ipython3",
   "version": "3.6.10"
  }
 },
 "nbformat": 4,
 "nbformat_minor": 4
}
