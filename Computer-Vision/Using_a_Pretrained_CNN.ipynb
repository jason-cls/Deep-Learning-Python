{
  "nbformat": 4,
  "nbformat_minor": 0,
  "metadata": {
    "colab": {
      "name": "Using a Pretrained CNN",
      "provenance": [],
      "collapsed_sections": []
    },
    "kernelspec": {
      "name": "python3",
      "display_name": "Python 3"
    },
    "accelerator": "GPU"
  },
  "cells": [
    {
      "cell_type": "markdown",
      "metadata": {
        "id": "RF753bVS9-JR",
        "colab_type": "text"
      },
      "source": [
        "# Using a Pretrained ConvNet\n",
        "This notebook utilizes a pretrained convnet to do feature extraction and fine-tuning for a specific image problem. We will be using the VGG16 CNN model pretrained on the ImageNet dataset to classify images of cats and dogs."
      ]
    },
    {
      "cell_type": "code",
      "metadata": {
        "id": "5UeQoIW6_tmh",
        "colab_type": "code",
        "outputId": "a68e2c1d-cb1d-4e34-9c36-57a6c6b5be82",
        "colab": {
          "base_uri": "https://localhost:8080/",
          "height": 50
        }
      },
      "source": [
        "%tensorflow_version 2.x\n",
        "from tensorflow.keras.applications import VGG16\n",
        "import os\n",
        "import numpy as np\n",
        "from keras.preprocessing.image import ImageDataGenerator\n",
        "from tensorflow.keras import models, layers, optimizers\n",
        "import matplotlib.pyplot as plt"
      ],
      "execution_count": 0,
      "outputs": [
        {
          "output_type": "stream",
          "text": [
            "TensorFlow 2.x selected.\n"
          ],
          "name": "stdout"
        },
        {
          "output_type": "stream",
          "text": [
            "Using TensorFlow backend.\n"
          ],
          "name": "stderr"
        }
      ]
    },
    {
      "cell_type": "code",
      "metadata": {
        "id": "ARHeOFZI-zid",
        "colab_type": "code",
        "outputId": "35291200-089e-457a-e855-8bccc1d5944c",
        "colab": {
          "base_uri": "https://localhost:8080/",
          "height": 790
        }
      },
      "source": [
        "# Initialize VGG16 conv base (no dense layers)\n",
        "conv_base = VGG16(weights='imagenet',\n",
        "                  include_top=False,\n",
        "                  input_shape=(150, 150, 3))\n",
        "\n",
        "conv_base.summary()"
      ],
      "execution_count": 0,
      "outputs": [
        {
          "output_type": "stream",
          "text": [
            "Model: \"vgg16\"\n",
            "_________________________________________________________________\n",
            "Layer (type)                 Output Shape              Param #   \n",
            "=================================================================\n",
            "input_1 (InputLayer)         [(None, 150, 150, 3)]     0         \n",
            "_________________________________________________________________\n",
            "block1_conv1 (Conv2D)        (None, 150, 150, 64)      1792      \n",
            "_________________________________________________________________\n",
            "block1_conv2 (Conv2D)        (None, 150, 150, 64)      36928     \n",
            "_________________________________________________________________\n",
            "block1_pool (MaxPooling2D)   (None, 75, 75, 64)        0         \n",
            "_________________________________________________________________\n",
            "block2_conv1 (Conv2D)        (None, 75, 75, 128)       73856     \n",
            "_________________________________________________________________\n",
            "block2_conv2 (Conv2D)        (None, 75, 75, 128)       147584    \n",
            "_________________________________________________________________\n",
            "block2_pool (MaxPooling2D)   (None, 37, 37, 128)       0         \n",
            "_________________________________________________________________\n",
            "block3_conv1 (Conv2D)        (None, 37, 37, 256)       295168    \n",
            "_________________________________________________________________\n",
            "block3_conv2 (Conv2D)        (None, 37, 37, 256)       590080    \n",
            "_________________________________________________________________\n",
            "block3_conv3 (Conv2D)        (None, 37, 37, 256)       590080    \n",
            "_________________________________________________________________\n",
            "block3_pool (MaxPooling2D)   (None, 18, 18, 256)       0         \n",
            "_________________________________________________________________\n",
            "block4_conv1 (Conv2D)        (None, 18, 18, 512)       1180160   \n",
            "_________________________________________________________________\n",
            "block4_conv2 (Conv2D)        (None, 18, 18, 512)       2359808   \n",
            "_________________________________________________________________\n",
            "block4_conv3 (Conv2D)        (None, 18, 18, 512)       2359808   \n",
            "_________________________________________________________________\n",
            "block4_pool (MaxPooling2D)   (None, 9, 9, 512)         0         \n",
            "_________________________________________________________________\n",
            "block5_conv1 (Conv2D)        (None, 9, 9, 512)         2359808   \n",
            "_________________________________________________________________\n",
            "block5_conv2 (Conv2D)        (None, 9, 9, 512)         2359808   \n",
            "_________________________________________________________________\n",
            "block5_conv3 (Conv2D)        (None, 9, 9, 512)         2359808   \n",
            "_________________________________________________________________\n",
            "block5_pool (MaxPooling2D)   (None, 4, 4, 512)         0         \n",
            "=================================================================\n",
            "Total params: 14,714,688\n",
            "Trainable params: 14,714,688\n",
            "Non-trainable params: 0\n",
            "_________________________________________________________________\n"
          ],
          "name": "stdout"
        }
      ]
    },
    {
      "cell_type": "markdown",
      "metadata": {
        "id": "fkEucPFUEnIM",
        "colab_type": "text"
      },
      "source": [
        "## Fast feature extraction - no data augmentation"
      ]
    },
    {
      "cell_type": "code",
      "metadata": {
        "id": "5b5dHmFbKgvQ",
        "colab_type": "code",
        "outputId": "cf5c1501-f9cc-4edc-dd4c-77ba9ed944aa",
        "colab": {
          "base_uri": "https://localhost:8080/",
          "height": 34
        }
      },
      "source": [
        "from google.colab import drive\n",
        "drive.mount('/content/drive')"
      ],
      "execution_count": 0,
      "outputs": [
        {
          "output_type": "stream",
          "text": [
            "Drive already mounted at /content/drive; to attempt to forcibly remount, call drive.mount(\"/content/drive\", force_remount=True).\n"
          ],
          "name": "stdout"
        }
      ]
    },
    {
      "cell_type": "code",
      "metadata": {
        "id": "tQVEv6ABFQBz",
        "colab_type": "code",
        "colab": {}
      },
      "source": [
        "### Mount google drive first ###\n",
        "base_dir = os.getcwd() + '/drive/My Drive/Colab Notebooks/Deep Learning in Python/Deep Learning for Computer Vision'\n",
        "original_dataset_dir = base_dir + '/kaggle_cat_dog_orig_smaller' # location of original uncompressed dataset\n",
        "\n",
        "# Directories for train / validation /test data splits\n",
        "train_dir = os.path.join(base_dir, 'train')\n",
        "validation_dir = os.path.join(base_dir, 'validation')\n",
        "test_dir = os.path.join(base_dir, 'test')\n",
        "\n",
        "# train\n",
        "train_cats_dir = os.path.join(train_dir, 'cats')\n",
        "train_dogs_dir = os.path.join(train_dir, 'dogs')\n",
        "\n",
        "# validation\n",
        "validation_cats_dir = os.path.join(validation_dir, 'cats')\n",
        "validation_dogs_dir = os.path.join(validation_dir, 'dogs')\n",
        "\n",
        "#test\n",
        "test_cats_dir = os.path.join(test_dir, 'cats')\n",
        "test_dogs_dir = os.path.join(test_dir, 'dogs')"
      ],
      "execution_count": 0,
      "outputs": []
    },
    {
      "cell_type": "code",
      "metadata": {
        "id": "xPQgGkgNFbjg",
        "colab_type": "code",
        "outputId": "59465ba9-38e4-4feb-e711-110fbcfa4e3a",
        "colab": {
          "base_uri": "https://localhost:8080/",
          "height": 67
        }
      },
      "source": [
        "# Extract features with pretrained conv base\n",
        "datagen = ImageDataGenerator(rescale=1/255)\n",
        "batch_size = 20\n",
        "\n",
        "def extract_features(directory, sample_count):\n",
        "  features = np.zeros(shape=(sample_count, 4, 4, 512)) # conv base output shape\n",
        "  labels = np.zeros(shape=(sample_count))\n",
        "  generator = datagen.flow_from_directory(\n",
        "      directory,\n",
        "      target_size=(150,150),\n",
        "      batch_size=batch_size,\n",
        "      class_mode='binary'\n",
        "  )\n",
        "  i=0\n",
        "  for inputs_batch, labels_batch in generator:\n",
        "    features_batch = conv_base.predict(inputs_batch)\n",
        "    features[i * batch_size : (i+1) * batch_size] = features_batch\n",
        "    labels[i * batch_size : (i+1) * batch_size] = labels_batch\n",
        "    i += 1\n",
        "    # Break condition for generator\n",
        "    if i * batch_size >= sample_count:\n",
        "      break\n",
        "  return features, labels\n",
        "\n",
        "\n",
        "train_features, train_labels = extract_features(train_dir, 2000)\n",
        "validation_features, validation_labels = extract_features(validation_dir, 1000)\n",
        "test_features, test_labels = extract_features(test_dir, 1000)\n",
        "\n",
        "# Flatten features prior to input into dense layer\n",
        "train_features = np.reshape(train_features, (2000, 4*4*512))\n",
        "validation_features = np.reshape(validation_features, (1000, 4*4*512))\n",
        "test_features = np.reshape(test_features, (1000, 4*4*512))"
      ],
      "execution_count": 0,
      "outputs": [
        {
          "output_type": "stream",
          "text": [
            "Found 2000 images belonging to 2 classes.\n",
            "Found 1000 images belonging to 2 classes.\n",
            "Found 1000 images belonging to 2 classes.\n"
          ],
          "name": "stdout"
        }
      ]
    },
    {
      "cell_type": "code",
      "metadata": {
        "id": "i3d_iJbXRWfT",
        "colab_type": "code",
        "outputId": "e242bd16-87cb-4505-cbbc-e8e8c0f599e8",
        "colab": {
          "base_uri": "https://localhost:8080/",
          "height": 1000
        }
      },
      "source": [
        "# Training densely connected classifier\n",
        "model = models.Sequential()\n",
        "model.add(layers.Dense(256, activation='relu', input_dim=4*4*512))\n",
        "model.add(layers.Dropout(0.5))\n",
        "model.add(layers.Dense(1, activation='sigmoid'))\n",
        "\n",
        "model.compile(\n",
        "    optimizer=optimizers.RMSprop(learning_rate=2e-5),\n",
        "    loss='binary_crossentropy',\n",
        "    metrics=['acc']\n",
        ")\n",
        "\n",
        "history = model.fit(\n",
        "    train_features,\n",
        "    train_labels,\n",
        "    epochs=30,\n",
        "    validation_data=(validation_features, validation_labels)\n",
        ")"
      ],
      "execution_count": 0,
      "outputs": [
        {
          "output_type": "stream",
          "text": [
            "Train on 2000 samples, validate on 1000 samples\n",
            "Epoch 1/30\n",
            "2000/2000 [==============================] - 1s 553us/sample - loss: 0.6359 - acc: 0.6410 - val_loss: 0.4726 - val_acc: 0.8170\n",
            "Epoch 2/30\n",
            "2000/2000 [==============================] - 0s 199us/sample - loss: 0.4757 - acc: 0.7720 - val_loss: 0.3913 - val_acc: 0.8590\n",
            "Epoch 3/30\n",
            "2000/2000 [==============================] - 0s 208us/sample - loss: 0.3854 - acc: 0.8365 - val_loss: 0.3461 - val_acc: 0.8730\n",
            "Epoch 4/30\n",
            "2000/2000 [==============================] - 0s 229us/sample - loss: 0.3380 - acc: 0.8590 - val_loss: 0.3217 - val_acc: 0.8800\n",
            "Epoch 5/30\n",
            "2000/2000 [==============================] - 0s 207us/sample - loss: 0.3037 - acc: 0.8770 - val_loss: 0.3020 - val_acc: 0.8860\n",
            "Epoch 6/30\n",
            "2000/2000 [==============================] - 0s 222us/sample - loss: 0.2843 - acc: 0.8890 - val_loss: 0.2890 - val_acc: 0.8940\n",
            "Epoch 7/30\n",
            "2000/2000 [==============================] - 0s 208us/sample - loss: 0.2621 - acc: 0.8985 - val_loss: 0.2915 - val_acc: 0.8790\n",
            "Epoch 8/30\n",
            "2000/2000 [==============================] - 0s 206us/sample - loss: 0.2478 - acc: 0.9045 - val_loss: 0.2731 - val_acc: 0.8950\n",
            "Epoch 9/30\n",
            "2000/2000 [==============================] - 0s 205us/sample - loss: 0.2327 - acc: 0.9135 - val_loss: 0.2668 - val_acc: 0.8980\n",
            "Epoch 10/30\n",
            "2000/2000 [==============================] - 0s 208us/sample - loss: 0.2252 - acc: 0.9165 - val_loss: 0.2614 - val_acc: 0.8970\n",
            "Epoch 11/30\n",
            "2000/2000 [==============================] - 0s 209us/sample - loss: 0.2088 - acc: 0.9205 - val_loss: 0.2589 - val_acc: 0.8960\n",
            "Epoch 12/30\n",
            "2000/2000 [==============================] - 0s 203us/sample - loss: 0.1985 - acc: 0.9255 - val_loss: 0.2533 - val_acc: 0.8980\n",
            "Epoch 13/30\n",
            "2000/2000 [==============================] - 0s 208us/sample - loss: 0.1924 - acc: 0.9315 - val_loss: 0.2541 - val_acc: 0.8960\n",
            "Epoch 14/30\n",
            "2000/2000 [==============================] - 0s 204us/sample - loss: 0.1788 - acc: 0.9395 - val_loss: 0.2490 - val_acc: 0.8940\n",
            "Epoch 15/30\n",
            "2000/2000 [==============================] - 0s 203us/sample - loss: 0.1774 - acc: 0.9340 - val_loss: 0.2488 - val_acc: 0.8960\n",
            "Epoch 16/30\n",
            "2000/2000 [==============================] - 0s 209us/sample - loss: 0.1716 - acc: 0.9375 - val_loss: 0.2479 - val_acc: 0.9010\n",
            "Epoch 17/30\n",
            "2000/2000 [==============================] - 0s 211us/sample - loss: 0.1696 - acc: 0.9420 - val_loss: 0.2507 - val_acc: 0.8990\n",
            "Epoch 18/30\n",
            "2000/2000 [==============================] - 0s 210us/sample - loss: 0.1575 - acc: 0.9455 - val_loss: 0.2495 - val_acc: 0.8980\n",
            "Epoch 19/30\n",
            "2000/2000 [==============================] - 0s 206us/sample - loss: 0.1523 - acc: 0.9465 - val_loss: 0.2433 - val_acc: 0.8960\n",
            "Epoch 20/30\n",
            "2000/2000 [==============================] - 0s 204us/sample - loss: 0.1458 - acc: 0.9505 - val_loss: 0.2416 - val_acc: 0.9020\n",
            "Epoch 21/30\n",
            "2000/2000 [==============================] - 0s 208us/sample - loss: 0.1415 - acc: 0.9510 - val_loss: 0.2418 - val_acc: 0.8990\n",
            "Epoch 22/30\n",
            "2000/2000 [==============================] - 0s 211us/sample - loss: 0.1383 - acc: 0.9540 - val_loss: 0.2419 - val_acc: 0.9020\n",
            "Epoch 23/30\n",
            "2000/2000 [==============================] - 0s 209us/sample - loss: 0.1296 - acc: 0.9595 - val_loss: 0.2421 - val_acc: 0.9040\n",
            "Epoch 24/30\n",
            "2000/2000 [==============================] - 0s 228us/sample - loss: 0.1276 - acc: 0.9575 - val_loss: 0.2427 - val_acc: 0.8950\n",
            "Epoch 25/30\n",
            "2000/2000 [==============================] - 0s 227us/sample - loss: 0.1204 - acc: 0.9610 - val_loss: 0.2399 - val_acc: 0.8980\n",
            "Epoch 26/30\n",
            "2000/2000 [==============================] - 0s 208us/sample - loss: 0.1146 - acc: 0.9645 - val_loss: 0.2401 - val_acc: 0.8980\n",
            "Epoch 27/30\n",
            "2000/2000 [==============================] - 0s 223us/sample - loss: 0.1075 - acc: 0.9635 - val_loss: 0.2506 - val_acc: 0.8970\n",
            "Epoch 28/30\n",
            "2000/2000 [==============================] - 0s 222us/sample - loss: 0.1086 - acc: 0.9655 - val_loss: 0.2520 - val_acc: 0.8960\n",
            "Epoch 29/30\n",
            "2000/2000 [==============================] - 0s 217us/sample - loss: 0.1074 - acc: 0.9670 - val_loss: 0.2492 - val_acc: 0.8970\n",
            "Epoch 30/30\n",
            "2000/2000 [==============================] - 0s 216us/sample - loss: 0.0982 - acc: 0.9690 - val_loss: 0.2533 - val_acc: 0.8960\n"
          ],
          "name": "stdout"
        }
      ]
    },
    {
      "cell_type": "code",
      "metadata": {
        "id": "6-68SwQ6rbL2",
        "colab_type": "code",
        "outputId": "926e0324-4418-46a1-d738-f121ce3849ce",
        "colab": {
          "base_uri": "https://localhost:8080/",
          "height": 34
        }
      },
      "source": [
        "history.history.keys()"
      ],
      "execution_count": 0,
      "outputs": [
        {
          "output_type": "execute_result",
          "data": {
            "text/plain": [
              "dict_keys(['loss', 'acc', 'val_loss', 'val_acc'])"
            ]
          },
          "metadata": {
            "tags": []
          },
          "execution_count": 7
        }
      ]
    },
    {
      "cell_type": "code",
      "metadata": {
        "id": "KmED1elKZQcR",
        "colab_type": "code",
        "outputId": "545d09f8-c71f-4e71-d832-6e0570bf3dbd",
        "colab": {
          "base_uri": "https://localhost:8080/",
          "height": 336
        }
      },
      "source": [
        "# Plot training / validation results\n",
        "acc = history.history['acc']\n",
        "val_acc = history.history['val_acc']\n",
        "loss = history.history['loss']\n",
        "val_loss = history.history['val_loss']\n",
        "\n",
        "epochs = range(1, len(acc)+1)\n",
        "\n",
        "fig,a =  plt.subplots(1,2)\n",
        "fig.set_figwidth(15)\n",
        "fig.set_figheight(5)\n",
        "\n",
        "a[0].plot(epochs, acc, 'bo', label='Training acc')\n",
        "a[0].plot(epochs, val_acc, 'r', label='Validation acc')\n",
        "a[0].set_title('Training and validation accuracy')\n",
        "a[0].legend()\n",
        "\n",
        "a[1].plot(epochs, loss, 'bo', label='Training loss')\n",
        "a[1].plot(epochs, val_loss, 'r', label='Validation loss')\n",
        "a[1].set_title('Training and validation loss')\n",
        "a[1].legend()\n",
        "\n",
        "plt.show()"
      ],
      "execution_count": 0,
      "outputs": [
        {
          "output_type": "display_data",
          "data": {
            "image/png": "[encoded data removed]",
            "text/plain": [
              "<Figure size 1080x360 with 2 Axes>"
            ]
          },
          "metadata": {
            "tags": []
          }
        }
      ]
    },
    {
      "cell_type": "markdown",
      "metadata": {
        "id": "rxj26UfPthZR",
        "colab_type": "text"
      },
      "source": [
        "We manage to reach a validation acuracy of 90%, which is much better than when we trained  small model from scratch. The plots also indicate that we begin overfitting after a ~10 epochs despite implementing a large dropout rate. To mitigate overfitting we can include data augmentation."
      ]
    },
    {
      "cell_type": "markdown",
      "metadata": {
        "id": "LTEf7-5BuNsu",
        "colab_type": "text"
      },
      "source": [
        "## Feature extraction with Data Augmentation\n",
        "While more expensive than without, using data augmentation alongside the base convolutional model should allow us to reduce the effects of overfitting the small image dataset."
      ]
    },
    {
      "cell_type": "code",
      "metadata": {
        "id": "1hHI-D2hvcZ-",
        "colab_type": "code",
        "colab": {}
      },
      "source": [
        "# Control Freezing of conv base weights\n",
        "conv_base.trainable = False"
      ],
      "execution_count": 0,
      "outputs": []
    },
    {
      "cell_type": "code",
      "metadata": {
        "id": "ETo9NQ6rskXh",
        "colab_type": "code",
        "outputId": "f55b3250-8441-46de-f0da-672dd37b2df2",
        "colab": {
          "base_uri": "https://localhost:8080/",
          "height": 286
        }
      },
      "source": [
        "# Add densely connected classifier to output of the base conv model\n",
        "model = models.Sequential()\n",
        "model.add(conv_base)\n",
        "model.add(layers.Flatten())\n",
        "model.add(layers.Dense(256, activation='relu'))\n",
        "model.add(layers.Dense(1, activation='sigmoid'))\n",
        "\n",
        "model.summary()"
      ],
      "execution_count": 0,
      "outputs": [
        {
          "output_type": "stream",
          "text": [
            "Model: \"sequential_1\"\n",
            "_________________________________________________________________\n",
            "Layer (type)                 Output Shape              Param #   \n",
            "=================================================================\n",
            "vgg16 (Model)                (None, 4, 4, 512)         14714688  \n",
            "_________________________________________________________________\n",
            "flatten (Flatten)            (None, 8192)              0         \n",
            "_________________________________________________________________\n",
            "dense_2 (Dense)              (None, 256)               2097408   \n",
            "_________________________________________________________________\n",
            "dense_3 (Dense)              (None, 1)                 257       \n",
            "=================================================================\n",
            "Total params: 16,812,353\n",
            "Trainable params: 2,097,665\n",
            "Non-trainable params: 14,714,688\n",
            "_________________________________________________________________\n"
          ],
          "name": "stdout"
        }
      ]
    },
    {
      "cell_type": "code",
      "metadata": {
        "id": "5np24kJNwI-Q",
        "colab_type": "code",
        "outputId": "0f963edc-9696-4e7a-d090-cc9cf24e6f56",
        "colab": {
          "base_uri": "https://localhost:8080/",
          "height": 1000
        }
      },
      "source": [
        "# Train the end to end model with frozen conv base\n",
        "train_datagen = ImageDataGenerator(\n",
        "    rescale=1/255,\n",
        "    rotation_range=40,\n",
        "    width_shift_range=0.25,\n",
        "    height_shift_range=0.25,\n",
        "    shear_range=0.25,\n",
        "    zoom_range=0.25,\n",
        "    horizontal_flip=True,\n",
        "    fill_mode='nearest'\n",
        ")\n",
        "\n",
        "test_datagen = ImageDataGenerator(rescale=1/255)\n",
        "\n",
        "train_generator = train_datagen.flow_from_directory(\n",
        "    train_dir,\n",
        "    target_size=(150,150),\n",
        "    batch_size=20,\n",
        "    class_mode='binary'\n",
        ")\n",
        "\n",
        "validation_generator = test_datagen.flow_from_directory(\n",
        "    validation_dir,\n",
        "    target_size=(150,150),\n",
        "    batch_size=20,\n",
        "    class_mode='binary'\n",
        ")\n",
        "\n",
        "model.compile(\n",
        "    optimizer=optimizers.RMSprop(learning_rate=1e-4),\n",
        "    loss='binary_crossentropy',\n",
        "    metrics=['acc']\n",
        ")\n",
        "\n",
        "history = model.fit(\n",
        "    train_generator,\n",
        "    steps_per_epoch = 100,\n",
        "    epochs=30,\n",
        "    validation_data = validation_generator,\n",
        "    validation_steps = 50\n",
        ")\n",
        "\n",
        "# Save weights before fine-tuning\n",
        "weight_checkpoint = model.get_weights()"
      ],
      "execution_count": 0,
      "outputs": [
        {
          "output_type": "stream",
          "text": [
            "Found 2000 images belonging to 2 classes.\n",
            "Found 1000 images belonging to 2 classes.\n",
            "WARNING:tensorflow:sample_weight modes were coerced from\n",
            "  ...\n",
            "    to  \n",
            "  ['...']\n",
            "WARNING:tensorflow:sample_weight modes were coerced from\n",
            "  ...\n",
            "    to  \n",
            "  ['...']\n",
            "Train for 100 steps, validate for 50 steps\n",
            "Epoch 1/30\n",
            "100/100 [==============================] - 26s 255ms/step - loss: 0.5320 - acc: 0.7225 - val_loss: 0.3740 - val_acc: 0.8240\n",
            "Epoch 2/30\n",
            "100/100 [==============================] - 24s 242ms/step - loss: 0.4395 - acc: 0.7875 - val_loss: 0.3398 - val_acc: 0.8440\n",
            "Epoch 3/30\n",
            "100/100 [==============================] - 25s 247ms/step - loss: 0.4172 - acc: 0.8050 - val_loss: 0.2995 - val_acc: 0.8720\n",
            "Epoch 4/30\n",
            "100/100 [==============================] - 24s 245ms/step - loss: 0.3920 - acc: 0.8195 - val_loss: 0.2659 - val_acc: 0.8880\n",
            "Epoch 5/30\n",
            "100/100 [==============================] - 24s 245ms/step - loss: 0.3903 - acc: 0.8215 - val_loss: 0.3314 - val_acc: 0.8530\n",
            "Epoch 6/30\n",
            "100/100 [==============================] - 24s 245ms/step - loss: 0.3801 - acc: 0.8330 - val_loss: 0.2733 - val_acc: 0.8900\n",
            "Epoch 7/30\n",
            "100/100 [==============================] - 24s 244ms/step - loss: 0.3570 - acc: 0.8370 - val_loss: 0.2616 - val_acc: 0.8850\n",
            "Epoch 8/30\n",
            "100/100 [==============================] - 24s 245ms/step - loss: 0.3569 - acc: 0.8365 - val_loss: 0.2445 - val_acc: 0.8950\n",
            "Epoch 9/30\n",
            "100/100 [==============================] - 24s 245ms/step - loss: 0.3455 - acc: 0.8480 - val_loss: 0.2534 - val_acc: 0.8950\n",
            "Epoch 10/30\n",
            "100/100 [==============================] - 25s 246ms/step - loss: 0.3445 - acc: 0.8450 - val_loss: 0.2719 - val_acc: 0.8810\n",
            "Epoch 11/30\n",
            "100/100 [==============================] - 25s 247ms/step - loss: 0.3470 - acc: 0.8475 - val_loss: 0.2877 - val_acc: 0.8750\n",
            "Epoch 12/30\n",
            "100/100 [==============================] - 24s 244ms/step - loss: 0.3274 - acc: 0.8525 - val_loss: 0.2395 - val_acc: 0.9030\n",
            "Epoch 13/30\n",
            "100/100 [==============================] - 25s 247ms/step - loss: 0.3321 - acc: 0.8480 - val_loss: 0.2569 - val_acc: 0.9030\n",
            "Epoch 14/30\n",
            "100/100 [==============================] - 25s 245ms/step - loss: 0.3370 - acc: 0.8480 - val_loss: 0.2838 - val_acc: 0.8800\n",
            "Epoch 15/30\n",
            "100/100 [==============================] - 25s 246ms/step - loss: 0.3255 - acc: 0.8605 - val_loss: 0.2612 - val_acc: 0.8900\n",
            "Epoch 16/30\n",
            "100/100 [==============================] - 25s 248ms/step - loss: 0.3269 - acc: 0.8520 - val_loss: 0.2611 - val_acc: 0.9000\n",
            "Epoch 17/30\n",
            "100/100 [==============================] - 24s 244ms/step - loss: 0.3249 - acc: 0.8565 - val_loss: 0.2530 - val_acc: 0.9000\n",
            "Epoch 18/30\n",
            "100/100 [==============================] - 25s 247ms/step - loss: 0.3145 - acc: 0.8575 - val_loss: 0.3109 - val_acc: 0.8710\n",
            "Epoch 19/30\n",
            "100/100 [==============================] - 25s 246ms/step - loss: 0.3104 - acc: 0.8590 - val_loss: 0.2585 - val_acc: 0.9000\n",
            "Epoch 20/30\n",
            "100/100 [==============================] - 24s 244ms/step - loss: 0.3158 - acc: 0.8610 - val_loss: 0.2495 - val_acc: 0.8990\n",
            "Epoch 21/30\n",
            "100/100 [==============================] - 24s 244ms/step - loss: 0.3274 - acc: 0.8525 - val_loss: 0.2735 - val_acc: 0.8870\n",
            "Epoch 22/30\n",
            "100/100 [==============================] - 24s 245ms/step - loss: 0.2957 - acc: 0.8760 - val_loss: 0.2568 - val_acc: 0.8980\n",
            "Epoch 23/30\n",
            "100/100 [==============================] - 24s 245ms/step - loss: 0.3207 - acc: 0.8450 - val_loss: 0.2637 - val_acc: 0.8880\n",
            "Epoch 24/30\n",
            "100/100 [==============================] - 24s 244ms/step - loss: 0.2872 - acc: 0.8765 - val_loss: 0.2509 - val_acc: 0.8980\n",
            "Epoch 25/30\n",
            "100/100 [==============================] - 25s 250ms/step - loss: 0.3032 - acc: 0.8680 - val_loss: 0.3073 - val_acc: 0.8650\n",
            "Epoch 26/30\n",
            "100/100 [==============================] - 25s 246ms/step - loss: 0.2986 - acc: 0.8680 - val_loss: 0.2504 - val_acc: 0.8960\n",
            "Epoch 27/30\n",
            "100/100 [==============================] - 24s 245ms/step - loss: 0.3034 - acc: 0.8680 - val_loss: 0.2694 - val_acc: 0.8920\n",
            "Epoch 28/30\n",
            "100/100 [==============================] - 25s 250ms/step - loss: 0.2964 - acc: 0.8760 - val_loss: 0.2514 - val_acc: 0.8930\n",
            "Epoch 29/30\n",
            "100/100 [==============================] - 24s 244ms/step - loss: 0.3048 - acc: 0.8680 - val_loss: 0.2487 - val_acc: 0.9020\n",
            "Epoch 30/30\n",
            "100/100 [==============================] - 25s 246ms/step - loss: 0.2928 - acc: 0.8730 - val_loss: 0.2771 - val_acc: 0.8880\n"
          ],
          "name": "stdout"
        }
      ]
    },
    {
      "cell_type": "code",
      "metadata": {
        "id": "BMa36yH_2Vtc",
        "colab_type": "code",
        "outputId": "e424e77a-235b-4983-d525-63672d69820e",
        "colab": {
          "base_uri": "https://localhost:8080/",
          "height": 336
        }
      },
      "source": [
        "# Plot training / validation results\n",
        "acc = history.history['acc']\n",
        "val_acc = history.history['val_acc']\n",
        "loss = history.history['loss']\n",
        "val_loss = history.history['val_loss']\n",
        "\n",
        "epochs = range(1, len(acc)+1)\n",
        "\n",
        "fig,a =  plt.subplots(1,2)\n",
        "fig.set_figwidth(15)\n",
        "fig.set_figheight(5)\n",
        "\n",
        "a[0].plot(epochs, acc, 'bo', label='Training acc')\n",
        "a[0].plot(epochs, val_acc, 'r', label='Validation acc')\n",
        "a[0].set_title('Training and validation accuracy')\n",
        "a[0].legend()\n",
        "\n",
        "a[1].plot(epochs, loss, 'bo', label='Training loss')\n",
        "a[1].plot(epochs, val_loss, 'r', label='Validation loss')\n",
        "a[1].set_title('Training and validation loss')\n",
        "a[1].legend()\n",
        "\n",
        "plt.show()"
      ],
      "execution_count": 0,
      "outputs": [
        {
          "output_type": "display_data",
          "data": {
            "image/png": "[encoded data removed]",
            "text/plain": [
              "<Figure size 1080x360 with 2 Axes>"
            ]
          },
          "metadata": {
            "tags": []
          }
        }
      ]
    },
    {
      "cell_type": "markdown",
      "metadata": {
        "id": "iHXLp251zWHS",
        "colab_type": "text"
      },
      "source": [
        "Using augmented data as opposed to a dropout layer, we achieve similar performance on validation data with ~90% accuracy."
      ]
    },
    {
      "cell_type": "markdown",
      "metadata": {
        "id": "62e4FpVg1bJW",
        "colab_type": "text"
      },
      "source": [
        "### Fine-tuning the pretrained model\n",
        "To further fine tune our pretrained model for the cat vs dog image classification problem, we can unfreeze a few of the top layers of the pretrained base conv architecture and retrain both theses unfrozen layers and the top densely connected layers. This will allow the pretrained model to be more relevant for our specific problem.\n",
        "\n",
        "To fine-tune the network the following steps are followed:\n",
        "1. Add custom network on top of pretrained network\n",
        "2. Freeze the pretrained base network\n",
        "3. Train the added custom layers\n",
        "4. Unfreeze some top layers of the base network\n",
        "5. Train both the unfrozen layers and the added custom layers\n",
        "\n",
        "Since we've already completed steps 1-3 in the previous section, we'll continue with step 4."
      ]
    },
    {
      "cell_type": "code",
      "metadata": {
        "id": "GM5q7brvygJ1",
        "colab_type": "code",
        "outputId": "8b43f0e1-2889-4acb-af35-5757aff84d23",
        "colab": {
          "base_uri": "https://localhost:8080/",
          "height": 336
        }
      },
      "source": [
        "# Set model weights from checkpoint\n",
        "model.set_weights(weight_checkpoint)\n",
        "\n",
        "# Unfreeze Weights of only \"block3 to block5\" of base conv model\n",
        "conv_base.trainable = True\n",
        "\n",
        "for layer in conv_base.layers:\n",
        "  print(layer.name)\n",
        "  if layer.name.startswith(('block3','block4','block5')):\n",
        "    layer.trainable=True\n",
        "  else:\n",
        "    layer.trainable=False\n",
        "\n"
      ],
      "execution_count": 0,
      "outputs": [
        {
          "output_type": "stream",
          "text": [
            "input_1\n",
            "block1_conv1\n",
            "block1_conv2\n",
            "block1_pool\n",
            "block2_conv1\n",
            "block2_conv2\n",
            "block2_pool\n",
            "block3_conv1\n",
            "block3_conv2\n",
            "block3_conv3\n",
            "block3_pool\n",
            "block4_conv1\n",
            "block4_conv2\n",
            "block4_conv3\n",
            "block4_pool\n",
            "block5_conv1\n",
            "block5_conv2\n",
            "block5_conv3\n",
            "block5_pool\n"
          ],
          "name": "stdout"
        }
      ]
    },
    {
      "cell_type": "code",
      "metadata": {
        "id": "m10GWdsKEHV7",
        "colab_type": "code",
        "outputId": "410842e6-d451-477f-d4e2-80544d20a546",
        "colab": {
          "base_uri": "https://localhost:8080/",
          "height": 286
        }
      },
      "source": [
        "model.compile(\n",
        "    optimizer=optimizers.RMSprop(learning_rate=1e-5),\n",
        "    loss='binary_crossentropy',\n",
        "    metrics=['acc']\n",
        ")\n",
        "\n",
        "model.summary()"
      ],
      "execution_count": 0,
      "outputs": [
        {
          "output_type": "stream",
          "text": [
            "Model: \"sequential_1\"\n",
            "_________________________________________________________________\n",
            "Layer (type)                 Output Shape              Param #   \n",
            "=================================================================\n",
            "vgg16 (Model)                (None, 4, 4, 512)         14714688  \n",
            "_________________________________________________________________\n",
            "flatten (Flatten)            (None, 8192)              0         \n",
            "_________________________________________________________________\n",
            "dense_2 (Dense)              (None, 256)               2097408   \n",
            "_________________________________________________________________\n",
            "dense_3 (Dense)              (None, 1)                 257       \n",
            "=================================================================\n",
            "Total params: 16,812,353\n",
            "Trainable params: 16,552,193\n",
            "Non-trainable params: 260,160\n",
            "_________________________________________________________________\n"
          ],
          "name": "stdout"
        }
      ]
    },
    {
      "cell_type": "code",
      "metadata": {
        "id": "NhKK8dlS9zVV",
        "colab_type": "code",
        "outputId": "96a44f53-8707-4ac0-84bb-7cc21625d169",
        "colab": {
          "base_uri": "https://localhost:8080/",
          "height": 1000
        }
      },
      "source": [
        "# Model Fine-tuning\n",
        "history = model.fit(\n",
        "    train_generator,\n",
        "    steps_per_epoch=100,\n",
        "    epochs=25,\n",
        "    validation_data=validation_generator,\n",
        "    validation_steps=50\n",
        ")"
      ],
      "execution_count": 0,
      "outputs": [
        {
          "output_type": "stream",
          "text": [
            "WARNING:tensorflow:sample_weight modes were coerced from\n",
            "  ...\n",
            "    to  \n",
            "  ['...']\n",
            "WARNING:tensorflow:sample_weight modes were coerced from\n",
            "  ...\n",
            "    to  \n",
            "  ['...']\n",
            "Train for 100 steps, validate for 50 steps\n",
            "Epoch 1/25\n",
            "100/100 [==============================] - 27s 275ms/step - loss: 0.3037 - acc: 0.8730 - val_loss: 0.2044 - val_acc: 0.9210\n",
            "Epoch 2/25\n",
            "100/100 [==============================] - 26s 259ms/step - loss: 0.2580 - acc: 0.8945 - val_loss: 0.1623 - val_acc: 0.9350\n",
            "Epoch 3/25\n",
            "100/100 [==============================] - 26s 259ms/step - loss: 0.1896 - acc: 0.9240 - val_loss: 0.1836 - val_acc: 0.9310\n",
            "Epoch 4/25\n",
            "100/100 [==============================] - 26s 259ms/step - loss: 0.1847 - acc: 0.9205 - val_loss: 0.1294 - val_acc: 0.9560\n",
            "Epoch 5/25\n",
            "100/100 [==============================] - 26s 258ms/step - loss: 0.1738 - acc: 0.9280 - val_loss: 0.2010 - val_acc: 0.9380\n",
            "Epoch 6/25\n",
            "100/100 [==============================] - 26s 263ms/step - loss: 0.1490 - acc: 0.9395 - val_loss: 0.1044 - val_acc: 0.9500\n",
            "Epoch 7/25\n",
            "100/100 [==============================] - 26s 259ms/step - loss: 0.1403 - acc: 0.9390 - val_loss: 0.1276 - val_acc: 0.9430\n",
            "Epoch 8/25\n",
            "100/100 [==============================] - 26s 260ms/step - loss: 0.1351 - acc: 0.9450 - val_loss: 0.1289 - val_acc: 0.9560\n",
            "Epoch 9/25\n",
            "100/100 [==============================] - 26s 257ms/step - loss: 0.1064 - acc: 0.9610 - val_loss: 0.1070 - val_acc: 0.9650\n",
            "Epoch 10/25\n",
            "100/100 [==============================] - 26s 259ms/step - loss: 0.1113 - acc: 0.9555 - val_loss: 0.1232 - val_acc: 0.9650\n",
            "Epoch 11/25\n",
            "100/100 [==============================] - 26s 256ms/step - loss: 0.1007 - acc: 0.9610 - val_loss: 0.1251 - val_acc: 0.9580\n",
            "Epoch 12/25\n",
            "100/100 [==============================] - 25s 254ms/step - loss: 0.0878 - acc: 0.9645 - val_loss: 0.1480 - val_acc: 0.9640\n",
            "Epoch 13/25\n",
            "100/100 [==============================] - 26s 257ms/step - loss: 0.0814 - acc: 0.9685 - val_loss: 0.1313 - val_acc: 0.9530\n",
            "Epoch 14/25\n",
            "100/100 [==============================] - 26s 257ms/step - loss: 0.0944 - acc: 0.9640 - val_loss: 0.1570 - val_acc: 0.9530\n",
            "Epoch 15/25\n",
            "100/100 [==============================] - 25s 254ms/step - loss: 0.0860 - acc: 0.9715 - val_loss: 0.1091 - val_acc: 0.9690\n",
            "Epoch 16/25\n",
            "100/100 [==============================] - 26s 256ms/step - loss: 0.0816 - acc: 0.9680 - val_loss: 0.1242 - val_acc: 0.9640\n",
            "Epoch 17/25\n",
            "100/100 [==============================] - 26s 257ms/step - loss: 0.0628 - acc: 0.9755 - val_loss: 0.1258 - val_acc: 0.9700\n",
            "Epoch 18/25\n",
            "100/100 [==============================] - 25s 255ms/step - loss: 0.0806 - acc: 0.9710 - val_loss: 0.1136 - val_acc: 0.9720\n",
            "Epoch 19/25\n",
            "100/100 [==============================] - 26s 256ms/step - loss: 0.0686 - acc: 0.9730 - val_loss: 0.1437 - val_acc: 0.9660\n",
            "Epoch 20/25\n",
            "100/100 [==============================] - 26s 255ms/step - loss: 0.0717 - acc: 0.9765 - val_loss: 0.2163 - val_acc: 0.9530\n",
            "Epoch 21/25\n",
            "100/100 [==============================] - 26s 257ms/step - loss: 0.0706 - acc: 0.9700 - val_loss: 0.1199 - val_acc: 0.9660\n",
            "Epoch 22/25\n",
            "100/100 [==============================] - 26s 257ms/step - loss: 0.0675 - acc: 0.9770 - val_loss: 0.1241 - val_acc: 0.9690\n",
            "Epoch 23/25\n",
            "100/100 [==============================] - 25s 255ms/step - loss: 0.0481 - acc: 0.9785 - val_loss: 0.1109 - val_acc: 0.9710\n",
            "Epoch 24/25\n",
            "100/100 [==============================] - 25s 255ms/step - loss: 0.0531 - acc: 0.9825 - val_loss: 0.1378 - val_acc: 0.9700\n",
            "Epoch 25/25\n",
            "100/100 [==============================] - 25s 255ms/step - loss: 0.0462 - acc: 0.9850 - val_loss: 0.1218 - val_acc: 0.9700\n"
          ],
          "name": "stdout"
        }
      ]
    },
    {
      "cell_type": "code",
      "metadata": {
        "id": "x1pfxrVN-ZBW",
        "colab_type": "code",
        "outputId": "3163916d-bb52-4852-c6d6-0c7447de1329",
        "colab": {
          "base_uri": "https://localhost:8080/",
          "height": 336
        }
      },
      "source": [
        "# Plot training / validation results\n",
        "acc = history.history['acc']\n",
        "val_acc = history.history['val_acc']\n",
        "loss = history.history['loss']\n",
        "val_loss = history.history['val_loss']\n",
        "\n",
        "epochs = range(1, len(acc)+1)\n",
        "\n",
        "fig,a =  plt.subplots(1,2)\n",
        "fig.set_figwidth(15)\n",
        "fig.set_figheight(5)\n",
        "\n",
        "a[0].plot(epochs, acc, 'bo', label='Training acc')\n",
        "a[0].plot(epochs, val_acc, 'r', label='Validation acc')\n",
        "a[0].set_title('Training and validation accuracy')\n",
        "a[0].legend()\n",
        "\n",
        "a[1].plot(epochs, loss, 'bo', label='Training loss')\n",
        "a[1].plot(epochs, val_loss, 'r', label='Validation loss')\n",
        "a[1].set_title('Training and validation loss')\n",
        "a[1].legend()\n",
        "\n",
        "plt.show()"
      ],
      "execution_count": 0,
      "outputs": [
        {
          "output_type": "display_data",
          "data": {
            "image/png": "[encoded data removed]",
            "text/plain": [
              "<Figure size 1080x360 with 2 Axes>"
            ]
          },
          "metadata": {
            "tags": []
          }
        }
      ]
    },
    {
      "cell_type": "markdown",
      "metadata": {
        "id": "9uR3-t0vLAb0",
        "colab_type": "text"
      },
      "source": [
        "After fine tuning the pretrained model we've managed to achieve ~97% accuracy on the validation data using augmented train data.\n",
        "\n",
        "Finally, lets test the model on the test data.\n"
      ]
    },
    {
      "cell_type": "code",
      "metadata": {
        "id": "dWiJf_NU1etv",
        "colab_type": "code",
        "outputId": "4d974af2-423e-4999-fbd0-9f937df2fc22",
        "colab": {
          "base_uri": "https://localhost:8080/",
          "height": 151
        }
      },
      "source": [
        "test_generator = test_datagen.flow_from_directory(\n",
        "    test_dir,\n",
        "    target_size = (150, 150),\n",
        "    batch_size = 20,\n",
        "    class_mode = 'binary'\n",
        ")\n",
        "\n",
        "test_loss, test_acc = model.evaluate(test_generator, steps=50)\n",
        "print('test loss: ', test_loss)\n",
        "print('test accuracy: ', test_acc)"
      ],
      "execution_count": 0,
      "outputs": [
        {
          "output_type": "stream",
          "text": [
            "Found 1000 images belonging to 2 classes.\n",
            "WARNING:tensorflow:sample_weight modes were coerced from\n",
            "  ...\n",
            "    to  \n",
            "  ['...']\n",
            "50/50 [==============================] - 5s 93ms/step - loss: 0.1539 - acc: 0.9660\n",
            "test loss:  0.15389167698459688\n",
            "test accuracy:  0.966\n"
          ],
          "name": "stdout"
        }
      ]
    },
    {
      "cell_type": "markdown",
      "metadata": {
        "id": "yNg-smUVuxBV",
        "colab_type": "text"
      },
      "source": [
        "The fine-tuned model also achieves an accuracy of ~97% on the test set so it generalizes well to unseen data."
      ]
    },
    {
      "cell_type": "code",
      "metadata": {
        "id": "06KOSrmguJkW",
        "colab_type": "code",
        "colab": {}
      },
      "source": [
        ""
      ],
      "execution_count": 0,
      "outputs": []
    }
  ]
}