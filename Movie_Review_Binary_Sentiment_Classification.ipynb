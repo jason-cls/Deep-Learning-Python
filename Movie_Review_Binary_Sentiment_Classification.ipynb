{
  "nbformat": 4,
  "nbformat_minor": 0,
  "metadata": {
    "colab": {
      "name": "Movie Review Binary Sentiment Classification",
      "provenance": [],
      "collapsed_sections": []
    },
    "kernelspec": {
      "name": "python3",
      "display_name": "Python 3"
    },
    "accelerator": "GPU"
  },
  "cells": [
    {
      "cell_type": "code",
      "metadata": {
        "id": "PXqdCLch35Pe",
        "colab_type": "code",
        "outputId": "a859b898-428a-4083-bb9e-f210f8e75c24",
        "colab": {
          "base_uri": "https://localhost:8080/",
          "height": 34
        }
      },
      "source": [
        "%tensorflow_version 2.x\n",
        "import tensorflow as tf\n",
        "from tensorflow.keras.datasets import imdb\n",
        "import numpy as np\n",
        "from tensorflow.keras import models, layers\n",
        "import matplotlib.pyplot as plt\n"
      ],
      "execution_count": 0,
      "outputs": [
        {
          "output_type": "stream",
          "text": [
            "TensorFlow 2.x selected.\n"
          ],
          "name": "stdout"
        }
      ]
    },
    {
      "cell_type": "code",
      "metadata": {
        "id": "x36Rrr5f5Nkx",
        "colab_type": "code",
        "outputId": "d84b7e67-eb7d-40b3-fc9a-4a881d9f14d2",
        "colab": {
          "base_uri": "https://localhost:8080/",
          "height": 51
        }
      },
      "source": [
        "num_words_ = 10000\n",
        "(train_data, train_labels), (test_data, test_labels) = imdb.load_data(num_words=num_words_)"
      ],
      "execution_count": 0,
      "outputs": [
        {
          "output_type": "stream",
          "text": [
            "Downloading data from https://storage.googleapis.com/tensorflow/tf-keras-datasets/imdb.npz\n",
            "17465344/17464789 [==============================] - 1s 0us/step\n"
          ],
          "name": "stdout"
        }
      ]
    },
    {
      "cell_type": "code",
      "metadata": {
        "id": "l6bz-Vke8hYA",
        "colab_type": "code",
        "outputId": "11804342-623f-46c8-c38d-17b9930d8a0f",
        "colab": {
          "base_uri": "https://localhost:8080/",
          "height": 156
        }
      },
      "source": [
        "print(train_data[:3])\n",
        "print(train_data.shape, '\\n')\n",
        "print(train_labels[:3])\n",
        "print(train_labels.shape)"
      ],
      "execution_count": 0,
      "outputs": [
        {
          "output_type": "stream",
          "text": [
            "[list([1, 14, 22, 16, 43, 530, 973, 1622, 1385, 65, 458, 4468, 66, 3941, 4, 173, 36, 256, 5, 25, 100, 43, 838, 112, 50, 670, 2, 9, 35, 480, 284, 5, 150, 4, 172, 112, 167, 2, 336, 385, 39, 4, 172, 4536, 1111, 17, 546, 38, 13, 447, 4, 192, 50, 16, 6, 147, 2025, 19, 14, 22, 4, 1920, 4613, 469, 4, 22, 71, 87, 12, 16, 43, 530, 38, 76, 15, 13, 1247, 4, 22, 17, 515, 17, 12, 16, 626, 18, 2, 5, 62, 386, 12, 8, 316, 8, 106, 5, 4, 2223, 5244, 16, 480, 66, 3785, 33, 4, 130, 12, 16, 38, 619, 5, 25, 124, 51, 36, 135, 48, 25, 1415, 33, 6, 22, 12, 215, 28, 77, 52, 5, 14, 407, 16, 82, 2, 8, 4, 107, 117, 5952, 15, 256, 4, 2, 7, 3766, 5, 723, 36, 71, 43, 530, 476, 26, 400, 317, 46, 7, 4, 2, 1029, 13, 104, 88, 4, 381, 15, 297, 98, 32, 2071, 56, 26, 141, 6, 194, 7486, 18, 4, 226, 22, 21, 134, 476, 26, 480, 5, 144, 30, 5535, 18, 51, 36, 28, 224, 92, 25, 104, 4, 226, 65, 16, 38, 1334, 88, 12, 16, 283, 5, 16, 4472, 113, 103, 32, 15, 16, 5345, 19, 178, 32])\n",
            " list([1, 194, 1153, 194, 8255, 78, 228, 5, 6, 1463, 4369, 5012, 134, 26, 4, 715, 8, 118, 1634, 14, 394, 20, 13, 119, 954, 189, 102, 5, 207, 110, 3103, 21, 14, 69, 188, 8, 30, 23, 7, 4, 249, 126, 93, 4, 114, 9, 2300, 1523, 5, 647, 4, 116, 9, 35, 8163, 4, 229, 9, 340, 1322, 4, 118, 9, 4, 130, 4901, 19, 4, 1002, 5, 89, 29, 952, 46, 37, 4, 455, 9, 45, 43, 38, 1543, 1905, 398, 4, 1649, 26, 6853, 5, 163, 11, 3215, 2, 4, 1153, 9, 194, 775, 7, 8255, 2, 349, 2637, 148, 605, 2, 8003, 15, 123, 125, 68, 2, 6853, 15, 349, 165, 4362, 98, 5, 4, 228, 9, 43, 2, 1157, 15, 299, 120, 5, 120, 174, 11, 220, 175, 136, 50, 9, 4373, 228, 8255, 5, 2, 656, 245, 2350, 5, 4, 9837, 131, 152, 491, 18, 2, 32, 7464, 1212, 14, 9, 6, 371, 78, 22, 625, 64, 1382, 9, 8, 168, 145, 23, 4, 1690, 15, 16, 4, 1355, 5, 28, 6, 52, 154, 462, 33, 89, 78, 285, 16, 145, 95])\n",
            " list([1, 14, 47, 8, 30, 31, 7, 4, 249, 108, 7, 4, 5974, 54, 61, 369, 13, 71, 149, 14, 22, 112, 4, 2401, 311, 12, 16, 3711, 33, 75, 43, 1829, 296, 4, 86, 320, 35, 534, 19, 263, 4821, 1301, 4, 1873, 33, 89, 78, 12, 66, 16, 4, 360, 7, 4, 58, 316, 334, 11, 4, 1716, 43, 645, 662, 8, 257, 85, 1200, 42, 1228, 2578, 83, 68, 3912, 15, 36, 165, 1539, 278, 36, 69, 2, 780, 8, 106, 14, 6905, 1338, 18, 6, 22, 12, 215, 28, 610, 40, 6, 87, 326, 23, 2300, 21, 23, 22, 12, 272, 40, 57, 31, 11, 4, 22, 47, 6, 2307, 51, 9, 170, 23, 595, 116, 595, 1352, 13, 191, 79, 638, 89, 2, 14, 9, 8, 106, 607, 624, 35, 534, 6, 227, 7, 129, 113])]\n",
            "(25000,) \n",
            "\n",
            "[1 0 0]\n",
            "(25000,)\n"
          ],
          "name": "stdout"
        }
      ]
    },
    {
      "cell_type": "code",
      "metadata": {
        "id": "4AY2hPaS8q4w",
        "colab_type": "code",
        "colab": {}
      },
      "source": [
        "# One hot encoding the data\n",
        "def vectorize_sequences(sequences, dim):\n",
        "  results = np.zeros((len(sequences), dim))\n",
        "  for i, sequence in enumerate(sequences):\n",
        "    results[i, sequence] = 1\n",
        "  return results\n",
        "\n",
        "x_train = vectorize_sequences(train_data, num_words_)\n",
        "x_test = vectorize_sequences(test_data, num_words_)\n",
        "y_train = np.asarray(train_labels).astype('float32')\n",
        "y_test = np.asarray(test_labels).astype('float32')"
      ],
      "execution_count": 0,
      "outputs": []
    },
    {
      "cell_type": "code",
      "metadata": {
        "id": "sSYn16FZBtHi",
        "colab_type": "code",
        "colab": {}
      },
      "source": [
        "# Model definition\n",
        "model = models.Sequential()\n",
        "model.add(layers.Dense(16, activation='relu', input_shape=(num_words_,)))\n",
        "model.add(layers.Dense(16, activation='relu'))\n",
        "model.add(layers.Dense(1, activation='sigmoid'))\n",
        "\n",
        "model.compile(optimizer='rmsprop',\n",
        "              loss='binary_crossentropy',\n",
        "              metrics=['accuracy'])"
      ],
      "execution_count": 0,
      "outputs": []
    },
    {
      "cell_type": "code",
      "metadata": {
        "id": "Vtgoj1q5IIQd",
        "colab_type": "code",
        "outputId": "284e3052-7abc-4d40-ed12-6b2e827b2a01",
        "colab": {
          "base_uri": "https://localhost:8080/",
          "height": 714
        }
      },
      "source": [
        "# Validation Split - for metric tracking during training\n",
        "x_val = x_train[:10000]\n",
        "partial_x_train = x_train[10000:]\n",
        "y_val = y_train[:10000]\n",
        "partial_y_train = y_train[10000:]\n",
        "\n",
        "# Train Model\n",
        "history = model.fit(partial_x_train,\n",
        "                    partial_y_train,\n",
        "                    batch_size=512,\n",
        "                    epochs=20,\n",
        "                    validation_data=(x_val, y_val) )\n"
      ],
      "execution_count": 0,
      "outputs": [
        {
          "output_type": "stream",
          "text": [
            "Train on 15000 samples, validate on 10000 samples\n",
            "Epoch 1/20\n",
            "15000/15000 [==============================] - 3s 232us/sample - loss: 0.5249 - accuracy: 0.7843 - val_loss: 0.4135 - val_accuracy: 0.8555\n",
            "Epoch 2/20\n",
            "15000/15000 [==============================] - 1s 69us/sample - loss: 0.3269 - accuracy: 0.9011 - val_loss: 0.3185 - val_accuracy: 0.8876\n",
            "Epoch 3/20\n",
            "15000/15000 [==============================] - 1s 73us/sample - loss: 0.2389 - accuracy: 0.9249 - val_loss: 0.2857 - val_accuracy: 0.8899\n",
            "Epoch 4/20\n",
            "15000/15000 [==============================] - 1s 71us/sample - loss: 0.1899 - accuracy: 0.9376 - val_loss: 0.2728 - val_accuracy: 0.8930\n",
            "Epoch 5/20\n",
            "15000/15000 [==============================] - 1s 69us/sample - loss: 0.1542 - accuracy: 0.9518 - val_loss: 0.3347 - val_accuracy: 0.8675\n",
            "Epoch 6/20\n",
            "15000/15000 [==============================] - 1s 73us/sample - loss: 0.1284 - accuracy: 0.9615 - val_loss: 0.2928 - val_accuracy: 0.8815\n",
            "Epoch 7/20\n",
            "15000/15000 [==============================] - 1s 70us/sample - loss: 0.1084 - accuracy: 0.9667 - val_loss: 0.2967 - val_accuracy: 0.8883\n",
            "Epoch 8/20\n",
            "15000/15000 [==============================] - 1s 70us/sample - loss: 0.0900 - accuracy: 0.9733 - val_loss: 0.3196 - val_accuracy: 0.8846\n",
            "Epoch 9/20\n",
            "15000/15000 [==============================] - 1s 69us/sample - loss: 0.0737 - accuracy: 0.9789 - val_loss: 0.3357 - val_accuracy: 0.8834\n",
            "Epoch 10/20\n",
            "15000/15000 [==============================] - 1s 68us/sample - loss: 0.0614 - accuracy: 0.9845 - val_loss: 0.3582 - val_accuracy: 0.8817\n",
            "Epoch 11/20\n",
            "15000/15000 [==============================] - 1s 70us/sample - loss: 0.0502 - accuracy: 0.9889 - val_loss: 0.3863 - val_accuracy: 0.8796\n",
            "Epoch 12/20\n",
            "15000/15000 [==============================] - 1s 69us/sample - loss: 0.0399 - accuracy: 0.9919 - val_loss: 0.4371 - val_accuracy: 0.8729\n",
            "Epoch 13/20\n",
            "15000/15000 [==============================] - 1s 70us/sample - loss: 0.0327 - accuracy: 0.9934 - val_loss: 0.4489 - val_accuracy: 0.8757\n",
            "Epoch 14/20\n",
            "15000/15000 [==============================] - 1s 70us/sample - loss: 0.0254 - accuracy: 0.9947 - val_loss: 0.4679 - val_accuracy: 0.8724\n",
            "Epoch 15/20\n",
            "15000/15000 [==============================] - 1s 70us/sample - loss: 0.0179 - accuracy: 0.9973 - val_loss: 0.4973 - val_accuracy: 0.8723\n",
            "Epoch 16/20\n",
            "15000/15000 [==============================] - 1s 70us/sample - loss: 0.0155 - accuracy: 0.9983 - val_loss: 0.5358 - val_accuracy: 0.8674\n",
            "Epoch 17/20\n",
            "15000/15000 [==============================] - 1s 69us/sample - loss: 0.0116 - accuracy: 0.9989 - val_loss: 0.5901 - val_accuracy: 0.8692\n",
            "Epoch 18/20\n",
            "15000/15000 [==============================] - 1s 68us/sample - loss: 0.0106 - accuracy: 0.9985 - val_loss: 0.5968 - val_accuracy: 0.8699\n",
            "Epoch 19/20\n",
            "15000/15000 [==============================] - 1s 69us/sample - loss: 0.0052 - accuracy: 0.9999 - val_loss: 0.6594 - val_accuracy: 0.8618\n",
            "Epoch 20/20\n",
            "15000/15000 [==============================] - 1s 68us/sample - loss: 0.0057 - accuracy: 0.9997 - val_loss: 0.6690 - val_accuracy: 0.8667\n"
          ],
          "name": "stdout"
        }
      ]
    },
    {
      "cell_type": "code",
      "metadata": {
        "id": "UtKrAL1bKC_b",
        "colab_type": "code",
        "outputId": "9441393e-5dc9-4f45-98b7-882f17581957",
        "colab": {
          "base_uri": "https://localhost:8080/",
          "height": 34
        }
      },
      "source": [
        "history_dict = history.history\n",
        "history_dict.keys()"
      ],
      "execution_count": 0,
      "outputs": [
        {
          "output_type": "execute_result",
          "data": {
            "text/plain": [
              "dict_keys(['loss', 'accuracy', 'val_loss', 'val_accuracy'])"
            ]
          },
          "metadata": {
            "tags": []
          },
          "execution_count": 7
        }
      ]
    },
    {
      "cell_type": "code",
      "metadata": {
        "id": "d6ciYnqBSRsM",
        "colab_type": "code",
        "outputId": "c391d1bb-041a-427a-ed79-1946cb007cb6",
        "colab": {
          "base_uri": "https://localhost:8080/",
          "height": 295
        }
      },
      "source": [
        "loss_values = history_dict['loss']\n",
        "val_loss_values = history_dict['val_loss']\n",
        "\n",
        "epochs = range(1, len(loss_values)+1)\n",
        "\n",
        "plt.plot(epochs, loss_values, 'bo', label='Training loss')\n",
        "plt.plot(epochs, val_loss_values, 'r', label='Validation loss')\n",
        "plt.title('Training and validation loss')\n",
        "plt.xlabel('Epochs')\n",
        "plt.ylabel('Loss')\n",
        "plt.legend()\n",
        "plt.show()"
      ],
      "execution_count": 0,
      "outputs": [
        {
          "output_type": "display_data",
          "data": {
            "image/png": "[encoded data removed]",
            "text/plain": [
              "<Figure size 432x288 with 1 Axes>"
            ]
          },
          "metadata": {
            "tags": []
          }
        }
      ]
    },
    {
      "cell_type": "code",
      "metadata": {
        "id": "yb5Zmy5SSXFA",
        "colab_type": "code",
        "outputId": "f6fe4ee8-2dd1-4929-a10e-0298faa8f0bc",
        "colab": {
          "base_uri": "https://localhost:8080/",
          "height": 295
        }
      },
      "source": [
        "acc_values = history_dict['accuracy']\n",
        "val_acc_values = history_dict['val_accuracy']\n",
        "\n",
        "plt.plot(epochs, acc_values, 'bo', label='Training Accuracy')\n",
        "plt.plot(epochs, val_acc_values, 'r', label='Validation Accuracy')\n",
        "plt.title('Training and validation accuracy')\n",
        "plt.xlabel('Epochs')\n",
        "plt.ylabel('Accuracy')\n",
        "plt.legend()\n",
        "plt.show()"
      ],
      "execution_count": 0,
      "outputs": [
        {
          "output_type": "display_data",
          "data": {
            "image/png": "[encoded data removed]",
            "text/plain": [
              "<Figure size 432x288 with 1 Axes>"
            ]
          },
          "metadata": {
            "tags": []
          }
        }
      ]
    },
    {
      "cell_type": "markdown",
      "metadata": {
        "id": "ok1wQmbfWB3X",
        "colab_type": "text"
      },
      "source": [
        "The model begins overfitting on the training data after 4 epochs, so we can limit the number of epochs the model trains for."
      ]
    },
    {
      "cell_type": "code",
      "metadata": {
        "id": "x3m61ZRGUshx",
        "colab_type": "code",
        "outputId": "851b9d98-5e42-429b-c603-1ca2f5fe32bb",
        "colab": {
          "base_uri": "https://localhost:8080/",
          "height": 102
        }
      },
      "source": [
        "# Retraining the model\n",
        "model = models.Sequential()\n",
        "model.add(layers.Dense(16, activation='relu', input_shape=(num_words_,)))\n",
        "model.add(layers.Dense(16, activation='relu'))\n",
        "model.add(layers.Dense(1, activation='sigmoid'))\n",
        "\n",
        "model.compile(optimizer='rmsprop',\n",
        "              loss='binary_crossentropy',\n",
        "              metrics=['accuracy'])\n",
        "\n",
        "# Use all training data - Limit 4 epochs to prevent overfitting\n",
        "model.fit(x_train, y_train, batch_size=512)\n",
        "results = model.evaluate(x_test, y_test)\n",
        "\n",
        "print('Test Loss =', results[0])\n",
        "print('Test Accuracy =', results[1])"
      ],
      "execution_count": 0,
      "outputs": [
        {
          "output_type": "stream",
          "text": [
            "Train on 25000 samples\n",
            "25000/25000 [==============================] - 1s 59us/sample - loss: 0.4421 - accuracy: 0.8152\n",
            "25000/25000 [==============================] - 2s 96us/sample - loss: 0.3302 - accuracy: 0.8793\n",
            "Test Loss = 0.33022617679595945\n",
            "Test Accuracy = 0.87928\n"
          ],
          "name": "stdout"
        }
      ]
    },
    {
      "cell_type": "code",
      "metadata": {
        "id": "qg4nEFUkXjw2",
        "colab_type": "code",
        "outputId": "aa708a4d-c721-444d-b61d-c18f8d23261f",
        "colab": {
          "base_uri": "https://localhost:8080/",
          "height": 306
        }
      },
      "source": [
        "# Model predictions (as probabilities of reviews being positive)\n",
        "print('Predicted Probabilities: \\n', model.predict(x_test))\n",
        "print('\\n Predicted Classes: \\n', model.predict_classes(x_test))"
      ],
      "execution_count": 0,
      "outputs": [
        {
          "output_type": "stream",
          "text": [
            "Predicted Probabilities: \n",
            " [[6.45059699e-05]\n",
            " [1.00000000e+00]\n",
            " [6.32195294e-01]\n",
            " ...\n",
            " [8.72140154e-05]\n",
            " [1.02178665e-05]\n",
            " [2.41646826e-01]]\n",
            "\n",
            " Predicted Classes: \n",
            " [[0]\n",
            " [1]\n",
            " [1]\n",
            " ...\n",
            " [0]\n",
            " [0]\n",
            " [0]]\n"
          ],
          "name": "stdout"
        }
      ]
    },
    {
      "cell_type": "code",
      "metadata": {
        "id": "4aG9VAXbpeDX",
        "colab_type": "code",
        "colab": {}
      },
      "source": [
        ""
      ],
      "execution_count": 0,
      "outputs": []
    }
  ]
}