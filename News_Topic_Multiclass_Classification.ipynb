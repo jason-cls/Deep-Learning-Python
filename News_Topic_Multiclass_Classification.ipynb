{
  "nbformat": 4,
  "nbformat_minor": 0,
  "metadata": {
    "colab": {
      "name": "News Topic Multiclass Classification",
      "provenance": [],
      "collapsed_sections": []
    },
    "kernelspec": {
      "name": "python3",
      "display_name": "Python 3"
    },
    "accelerator": "GPU"
  },
  "cells": [
    {
      "cell_type": "code",
      "metadata": {
        "id": "nlyWTuJtqOuk",
        "colab_type": "code",
        "colab": {}
      },
      "source": [
        "%tensorflow_version 2.x\n",
        "from tensorflow.keras.datasets import reuters\n",
        "from tensorflow.keras import models, layers\n",
        "from keras.utils.np_utils import to_categorical\n",
        "import numpy as np\n",
        "import matplotlib.pyplot as plt"
      ],
      "execution_count": 0,
      "outputs": []
    },
    {
      "cell_type": "code",
      "metadata": {
        "id": "WkbF1jGorw7n",
        "colab_type": "code",
        "outputId": "4fdee3f3-bfb2-4d7e-918b-d5319679d1b7",
        "colab": {
          "base_uri": "https://localhost:8080/",
          "height": 122
        }
      },
      "source": [
        "num_words_ = 10000\n",
        "(train_data, train_labels), (test_data, test_labels) = reuters.load_data(num_words=num_words_)\n",
        "num_classes = len(np.unique(train_labels))\n",
        "\n",
        "print(train_data.shape)\n",
        "print(test_data.shape)\n",
        "print(train_data[0])\n",
        "print(train_labels.shape)\n",
        "print(test_labels.shape)"
      ],
      "execution_count": 0,
      "outputs": [
        {
          "output_type": "stream",
          "text": [
            "(8982,)\n",
            "(2246,)\n",
            "[1, 2, 2, 8, 43, 10, 447, 5, 25, 207, 270, 5, 3095, 111, 16, 369, 186, 90, 67, 7, 89, 5, 19, 102, 6, 19, 124, 15, 90, 67, 84, 22, 482, 26, 7, 48, 4, 49, 8, 864, 39, 209, 154, 6, 151, 6, 83, 11, 15, 22, 155, 11, 15, 7, 48, 9, 4579, 1005, 504, 6, 258, 6, 272, 11, 15, 22, 134, 44, 11, 15, 16, 8, 197, 1245, 90, 67, 52, 29, 209, 30, 32, 132, 6, 109, 15, 17, 12]\n",
            "(8982,)\n",
            "(2246,)\n"
          ],
          "name": "stdout"
        }
      ]
    },
    {
      "cell_type": "code",
      "metadata": {
        "id": "kPyPEw4qsU0U",
        "colab_type": "code",
        "outputId": "f7118b86-c55d-4b2e-e4be-98346e4dcd8c",
        "colab": {
          "base_uri": "https://localhost:8080/",
          "height": 34
        }
      },
      "source": [
        "# One hot encoding word indices\n",
        "def vectorize_sequences(sequences, dimension=num_words_):\n",
        "  results = np.zeros((len(sequences), dimension))\n",
        "  for i, sequence in enumerate(sequences):\n",
        "    results[i, sequence] = 1\n",
        "  return results\n",
        "\n",
        "x_train = vectorize_sequences(train_data)\n",
        "x_test = vectorize_sequences(test_data)\n",
        "\n",
        "x_train.shape"
      ],
      "execution_count": 0,
      "outputs": [
        {
          "output_type": "execute_result",
          "data": {
            "text/plain": [
              "(8982, 10000)"
            ]
          },
          "metadata": {
            "tags": []
          },
          "execution_count": 46
        }
      ]
    },
    {
      "cell_type": "code",
      "metadata": {
        "id": "oS3fM_qNsagT",
        "colab_type": "code",
        "outputId": "250dc005-ec2e-4d58-e53d-49b2028da679",
        "colab": {
          "base_uri": "https://localhost:8080/",
          "height": 68
        }
      },
      "source": [
        "# One hot encoding of target labels\n",
        "one_hot_train_labels = to_categorical(train_labels)\n",
        "one_hot_test_labels = to_categorical(test_labels)\n",
        "\n",
        "one_hot_train_labels[0]"
      ],
      "execution_count": 0,
      "outputs": [
        {
          "output_type": "execute_result",
          "data": {
            "text/plain": [
              "array([0., 0., 0., 1., 0., 0., 0., 0., 0., 0., 0., 0., 0., 0., 0., 0., 0.,\n",
              "       0., 0., 0., 0., 0., 0., 0., 0., 0., 0., 0., 0., 0., 0., 0., 0., 0.,\n",
              "       0., 0., 0., 0., 0., 0., 0., 0., 0., 0., 0., 0.], dtype=float32)"
            ]
          },
          "metadata": {
            "tags": []
          },
          "execution_count": 47
        }
      ]
    },
    {
      "cell_type": "code",
      "metadata": {
        "id": "iq29m1tXt1tZ",
        "colab_type": "code",
        "colab": {}
      },
      "source": [
        "# Model definition\n",
        "model = models.Sequential()\n",
        "model.add(layers.Dense(64, activation='relu', input_shape=(num_words_,)))\n",
        "model.add(layers.Dense(64, activation='relu'))\n",
        "model.add(layers.Dense(num_classes, activation='softmax')) # 46 dim vector output / Softmax for multiclass probabilities\n",
        "\n",
        "model.compile(optimizer='rmsprop',\n",
        "              loss='categorical_crossentropy', # Multiclass Loss function\n",
        "              metrics=['accuracy'])\n"
      ],
      "execution_count": 0,
      "outputs": []
    },
    {
      "cell_type": "code",
      "metadata": {
        "id": "yu66o_9twAFv",
        "colab_type": "code",
        "colab": {}
      },
      "source": [
        "# Validation split\n",
        "x_val = x_train[:1000]\n",
        "partial_x_train = x_train[1000:]\n",
        "\n",
        "y_val = one_hot_train_labels[:1000]\n",
        "partial_y_train = one_hot_train_labels[1000:]"
      ],
      "execution_count": 0,
      "outputs": []
    },
    {
      "cell_type": "code",
      "metadata": {
        "id": "UJ7rkhczwrtN",
        "colab_type": "code",
        "outputId": "51715a0c-4ada-4e38-e611-1bc39a700547",
        "colab": {
          "base_uri": "https://localhost:8080/",
          "height": 714
        }
      },
      "source": [
        "# Training & Validation\n",
        "history = model.fit(partial_x_train,\n",
        "                    partial_y_train,\n",
        "                    batch_size=512,\n",
        "                    epochs=20,\n",
        "                    validation_data=(x_val, y_val))"
      ],
      "execution_count": 0,
      "outputs": [
        {
          "output_type": "stream",
          "text": [
            "Train on 7982 samples, validate on 1000 samples\n",
            "Epoch 1/20\n",
            "7982/7982 [==============================] - 2s 310us/sample - loss: 2.5681 - accuracy: 0.5154 - val_loss: 1.7195 - val_accuracy: 0.6410\n",
            "Epoch 2/20\n",
            "7982/7982 [==============================] - 0s 50us/sample - loss: 1.4098 - accuracy: 0.7081 - val_loss: 1.2978 - val_accuracy: 0.7080\n",
            "Epoch 3/20\n",
            "7982/7982 [==============================] - 0s 50us/sample - loss: 1.0502 - accuracy: 0.7765 - val_loss: 1.1439 - val_accuracy: 0.7660\n",
            "Epoch 4/20\n",
            "7982/7982 [==============================] - 0s 49us/sample - loss: 0.8294 - accuracy: 0.8262 - val_loss: 1.0553 - val_accuracy: 0.7780\n",
            "Epoch 5/20\n",
            "7982/7982 [==============================] - 0s 53us/sample - loss: 0.6569 - accuracy: 0.8659 - val_loss: 0.9662 - val_accuracy: 0.7980\n",
            "Epoch 6/20\n",
            "7982/7982 [==============================] - 0s 51us/sample - loss: 0.5231 - accuracy: 0.8936 - val_loss: 0.9472 - val_accuracy: 0.7980\n",
            "Epoch 7/20\n",
            "7982/7982 [==============================] - 0s 51us/sample - loss: 0.4213 - accuracy: 0.9141 - val_loss: 0.9193 - val_accuracy: 0.8130\n",
            "Epoch 8/20\n",
            "7982/7982 [==============================] - 0s 51us/sample - loss: 0.3412 - accuracy: 0.9290 - val_loss: 0.9253 - val_accuracy: 0.8000\n",
            "Epoch 9/20\n",
            "7982/7982 [==============================] - 0s 49us/sample - loss: 0.2798 - accuracy: 0.9397 - val_loss: 0.9028 - val_accuracy: 0.8120\n",
            "Epoch 10/20\n",
            "7982/7982 [==============================] - 0s 52us/sample - loss: 0.2370 - accuracy: 0.9458 - val_loss: 0.8915 - val_accuracy: 0.8140\n",
            "Epoch 11/20\n",
            "7982/7982 [==============================] - 0s 50us/sample - loss: 0.2051 - accuracy: 0.9476 - val_loss: 0.9604 - val_accuracy: 0.8050\n",
            "Epoch 12/20\n",
            "7982/7982 [==============================] - 0s 48us/sample - loss: 0.1843 - accuracy: 0.9525 - val_loss: 0.9338 - val_accuracy: 0.8120\n",
            "Epoch 13/20\n",
            "7982/7982 [==============================] - 0s 52us/sample - loss: 0.1637 - accuracy: 0.9548 - val_loss: 0.9486 - val_accuracy: 0.8080\n",
            "Epoch 14/20\n",
            "7982/7982 [==============================] - 0s 52us/sample - loss: 0.1476 - accuracy: 0.9546 - val_loss: 1.0534 - val_accuracy: 0.7960\n",
            "Epoch 15/20\n",
            "7982/7982 [==============================] - 0s 52us/sample - loss: 0.1409 - accuracy: 0.9572 - val_loss: 1.0106 - val_accuracy: 0.8060\n",
            "Epoch 16/20\n",
            "7982/7982 [==============================] - 0s 50us/sample - loss: 0.1309 - accuracy: 0.9574 - val_loss: 1.0156 - val_accuracy: 0.8060\n",
            "Epoch 17/20\n",
            "7982/7982 [==============================] - 0s 52us/sample - loss: 0.1254 - accuracy: 0.9568 - val_loss: 1.0805 - val_accuracy: 0.8060\n",
            "Epoch 18/20\n",
            "7982/7982 [==============================] - 0s 53us/sample - loss: 0.1188 - accuracy: 0.9558 - val_loss: 1.0431 - val_accuracy: 0.8080\n",
            "Epoch 19/20\n",
            "7982/7982 [==============================] - 0s 47us/sample - loss: 0.1144 - accuracy: 0.9593 - val_loss: 1.0312 - val_accuracy: 0.8000\n",
            "Epoch 20/20\n",
            "7982/7982 [==============================] - 0s 47us/sample - loss: 0.1102 - accuracy: 0.9585 - val_loss: 1.1307 - val_accuracy: 0.8010\n"
          ],
          "name": "stdout"
        }
      ]
    },
    {
      "cell_type": "code",
      "metadata": {
        "id": "kyQDDM8T0Eo6",
        "colab_type": "code",
        "outputId": "8673a1be-0aba-40a3-e3c1-a990a0796cac",
        "colab": {
          "base_uri": "https://localhost:8080/",
          "height": 295
        }
      },
      "source": [
        "# Plot training and validation loss\n",
        "loss = history.history['loss']\n",
        "val_loss = history.history['val_loss']\n",
        "epochs = range(1, len(loss)+1 )\n",
        "\n",
        "plt.plot(epochs, loss, 'bo', label='Training Loss')\n",
        "plt.plot(epochs, val_loss, 'r', label='Validation Loss')\n",
        "plt.title('Training and validation loss')\n",
        "plt.xlabel('Epochs')\n",
        "plt.ylabel('Loss')\n",
        "plt.legend()\n",
        "plt.show()"
      ],
      "execution_count": 0,
      "outputs": [
        {
          "output_type": "display_data",
          "data": {
            "image/png": "[encoded data removed]",
            "text/plain": [
              "<Figure size 432x288 with 1 Axes>"
            ]
          },
          "metadata": {
            "tags": []
          }
        }
      ]
    },
    {
      "cell_type": "code",
      "metadata": {
        "id": "Ty08Ug500YI8",
        "colab_type": "code",
        "outputId": "8b8c9f06-af6c-405c-bbf4-09319a117bc2",
        "colab": {
          "base_uri": "https://localhost:8080/",
          "height": 295
        }
      },
      "source": [
        "# Plot training and validation accuracy\n",
        "acc = history.history['accuracy']\n",
        "val_acc = history.history['val_accuracy']\n",
        "\n",
        "plt.plot(epochs, acc, 'bo', label='Training accuracy')\n",
        "plt.plot(epochs, val_acc, 'r', label='Validation accuracy')\n",
        "plt.title('Training and validation accuracy')\n",
        "plt.xlabel('Epochs')\n",
        "plt.ylabel('Accuracy')\n",
        "plt.legend()\n",
        "plt.show()"
      ],
      "execution_count": 0,
      "outputs": [
        {
          "output_type": "display_data",
          "data": {
            "image/png": "[encoded data removed]",
            "text/plain": [
              "<Figure size 432x288 with 1 Axes>"
            ]
          },
          "metadata": {
            "tags": []
          }
        }
      ]
    },
    {
      "cell_type": "markdown",
      "metadata": {
        "id": "nPCBE_pK4CJG",
        "colab_type": "text"
      },
      "source": [
        "The trained neural net begins overfitting after approximately 9 epochs, so we will retrain on all train data and stop after 9 epochs."
      ]
    },
    {
      "cell_type": "code",
      "metadata": {
        "id": "Ms-XXE_A0cME",
        "colab_type": "code",
        "outputId": "2e151db2-30d0-416c-9413-cf56b4592742",
        "colab": {
          "base_uri": "https://localhost:8080/",
          "height": 374
        }
      },
      "source": [
        "# Retrain model on all training data - 9 epochs\n",
        "model = models.Sequential()\n",
        "model.add(layers.Dense(64, activation='relu', input_shape=(num_words_,)))\n",
        "model.add(layers.Dense(64, activation='relu'))\n",
        "model.add(layers.Dense(num_classes, activation='softmax'))\n",
        "\n",
        "model.compile(optimizer='rmsprop',\n",
        "              loss='categorical_crossentropy',\n",
        "              metrics=['accuracy'])\n",
        "\n",
        "model.fit(x_train,\n",
        "          one_hot_train_labels,\n",
        "          batch_size=512,\n",
        "          epochs=9)\n",
        "\n",
        "results = model.evaluate(x_test, one_hot_test_labels)\n",
        "print(results)"
      ],
      "execution_count": 0,
      "outputs": [
        {
          "output_type": "stream",
          "text": [
            "Train on 8982 samples\n",
            "Epoch 1/9\n",
            "8982/8982 [==============================] - 1s 80us/sample - loss: 2.6733 - accuracy: 0.5489\n",
            "Epoch 2/9\n",
            "8982/8982 [==============================] - 0s 44us/sample - loss: 1.3660 - accuracy: 0.7237\n",
            "Epoch 3/9\n",
            "8982/8982 [==============================] - 0s 44us/sample - loss: 0.9996 - accuracy: 0.7892\n",
            "Epoch 4/9\n",
            "8982/8982 [==============================] - 0s 45us/sample - loss: 0.7761 - accuracy: 0.8361\n",
            "Epoch 5/9\n",
            "8982/8982 [==============================] - 0s 47us/sample - loss: 0.6034 - accuracy: 0.8750\n",
            "Epoch 6/9\n",
            "8982/8982 [==============================] - 0s 45us/sample - loss: 0.4817 - accuracy: 0.9002\n",
            "Epoch 7/9\n",
            "8982/8982 [==============================] - 0s 45us/sample - loss: 0.3892 - accuracy: 0.9162\n",
            "Epoch 8/9\n",
            "8982/8982 [==============================] - 0s 45us/sample - loss: 0.3172 - accuracy: 0.9305\n",
            "Epoch 9/9\n",
            "8982/8982 [==============================] - 0s 43us/sample - loss: 0.2634 - accuracy: 0.9405\n",
            "2246/2246 [==============================] - 0s 152us/sample - loss: 0.9616 - accuracy: 0.7983\n",
            "[0.9616235117772172, 0.7983081]\n"
          ],
          "name": "stdout"
        }
      ]
    },
    {
      "cell_type": "code",
      "metadata": {
        "id": "NgQr4pSL1cjz",
        "colab_type": "code",
        "colab": {}
      },
      "source": [
        ""
      ],
      "execution_count": 0,
      "outputs": []
    }
  ]
}