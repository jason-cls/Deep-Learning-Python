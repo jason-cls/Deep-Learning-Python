{
 "cells": [
  {
   "cell_type": "markdown",
   "metadata": {},
   "source": [
    "# CNNs for Text Sentiment Classification\n",
    "Aside from RNNs, 1D convnets are a cheaper alternative to pattern recognition on sequence data. We will be using 1D convnets to process IMDB reviews for sentiment classification."
   ]
  },
  {
   "cell_type": "code",
   "execution_count": 1,
   "metadata": {},
   "outputs": [
    {
     "name": "stderr",
     "output_type": "stream",
     "text": [
      "Using TensorFlow backend.\n"
     ]
    }
   ],
   "source": [
    "from keras.datasets import imdb\n",
    "from keras.preprocessing import sequence\n",
    "from keras import models, layers\n",
    "from keras.optimizers import RMSprop\n",
    "import matplotlib.pyplot as plt"
   ]
  },
  {
   "cell_type": "code",
   "execution_count": 6,
   "metadata": {},
   "outputs": [
    {
     "data": {
      "text/plain": [
       "[PhysicalDevice(name='/physical_device:GPU:0', device_type='GPU')]"
      ]
     },
     "execution_count": 6,
     "metadata": {},
     "output_type": "execute_result"
    }
   ],
   "source": [
    "import tensorflow as tf\n",
    "\n",
    "tf.config.experimental.list_physical_devices('GPU')"
   ]
  },
  {
   "cell_type": "code",
   "execution_count": 19,
   "metadata": {},
   "outputs": [
    {
     "name": "stdout",
     "output_type": "stream",
     "text": [
      "25000 train sequences\n",
      "25000 test sequences\n",
      "x_train shape: (25000, 500)\n",
      "x_test shape: (25000, 500)\n"
     ]
    }
   ],
   "source": [
    "# Import & Preprocess data\n",
    "max_features = 10000\n",
    "max_len = 500\n",
    "\n",
    "(x_train, y_train), (x_test, y_test) = imdb.load_data(num_words=max_features)\n",
    "print(len(x_train), 'train sequences')\n",
    "print(len(x_test), 'test sequences')\n",
    "\n",
    "# Pad sequence data\n",
    "x_train = sequence.pad_sequences(x_train, maxlen=max_len)\n",
    "x_test = sequence.pad_sequences(x_test, maxlen=max_len)\n",
    "\n",
    "print('x_train shape:', x_train.shape)\n",
    "print('x_test shape:', x_test.shape)"
   ]
  },
  {
   "cell_type": "code",
   "execution_count": 20,
   "metadata": {},
   "outputs": [
    {
     "name": "stdout",
     "output_type": "stream",
     "text": [
      "Model: \"sequential_3\"\n",
      "_________________________________________________________________\n",
      "Layer (type)                 Output Shape              Param #   \n",
      "=================================================================\n",
      "embedding_3 (Embedding)      (None, None, 128)         1280000   \n",
      "_________________________________________________________________\n",
      "conv1d_5 (Conv1D)            (None, None, 32)          28704     \n",
      "_________________________________________________________________\n",
      "max_pooling1d_3 (MaxPooling1 (None, None, 32)          0         \n",
      "_________________________________________________________________\n",
      "conv1d_6 (Conv1D)            (None, None, 32)          7200      \n",
      "_________________________________________________________________\n",
      "global_max_pooling1d_3 (Glob (None, 32)                0         \n",
      "_________________________________________________________________\n",
      "dense_3 (Dense)              (None, 1)                 33        \n",
      "=================================================================\n",
      "Total params: 1,315,937\n",
      "Trainable params: 1,315,937\n",
      "Non-trainable params: 0\n",
      "_________________________________________________________________\n"
     ]
    }
   ],
   "source": [
    "# Train 1D convnet model\n",
    "model = models.Sequential()\n",
    "model.add(layers.Embedding(max_features, 128))\n",
    "model.add(layers.Conv1D(32, 7, activation='relu'))\n",
    "model.add(layers.MaxPooling1D(pool_size=5))\n",
    "model.add(layers.Conv1D(32, 7, activation='relu'))\n",
    "model.add(layers.GlobalMaxPooling1D())\n",
    "model.add(layers.Dense(1, activation='sigmoid'))\n",
    "\n",
    "model.summary()"
   ]
  },
  {
   "cell_type": "code",
   "execution_count": 21,
   "metadata": {
    "scrolled": false
   },
   "outputs": [
    {
     "name": "stderr",
     "output_type": "stream",
     "text": [
      "D:\\Anaconda3\\envs\\PythonGPU\\lib\\site-packages\\tensorflow_core\\python\\framework\\indexed_slices.py:433: UserWarning: Converting sparse IndexedSlices to a dense Tensor of unknown shape. This may consume a large amount of memory.\n",
      "  \"Converting sparse IndexedSlices to a dense Tensor of unknown shape. \"\n"
     ]
    },
    {
     "name": "stdout",
     "output_type": "stream",
     "text": [
      "Train on 20000 samples, validate on 5000 samples\n",
      "Epoch 1/20\n",
      "20000/20000 [==============================] - 3s 175us/step - loss: 0.6924 - acc: 0.5257 - val_loss: 0.6912 - val_acc: 0.5682\n",
      "Epoch 2/20\n",
      "20000/20000 [==============================] - 3s 160us/step - loss: 0.6851 - acc: 0.6518 - val_loss: 0.6863 - val_acc: 0.6582\n",
      "Epoch 3/20\n",
      "20000/20000 [==============================] - 3s 167us/step - loss: 0.6728 - acc: 0.7564 - val_loss: 0.6685 - val_acc: 0.7334\n",
      "Epoch 4/20\n",
      "20000/20000 [==============================] - 3s 160us/step - loss: 0.6357 - acc: 0.7918 - val_loss: 0.6048 - val_acc: 0.7578\n",
      "Epoch 5/20\n",
      "20000/20000 [==============================] - 3s 163us/step - loss: 0.5374 - acc: 0.8180 - val_loss: 0.4826 - val_acc: 0.8170\n",
      "Epoch 6/20\n",
      "20000/20000 [==============================] - 3s 171us/step - loss: 0.4156 - acc: 0.8480 - val_loss: 0.3915 - val_acc: 0.8408\n",
      "Epoch 7/20\n",
      "20000/20000 [==============================] - 3s 159us/step - loss: 0.3357 - acc: 0.8690 - val_loss: 0.3514 - val_acc: 0.8520\n",
      "Epoch 8/20\n",
      "20000/20000 [==============================] - 4s 178us/step - loss: 0.2905 - acc: 0.8865 - val_loss: 0.3300 - val_acc: 0.8572\n",
      "Epoch 9/20\n",
      "20000/20000 [==============================] - 3s 167us/step - loss: 0.2597 - acc: 0.9000 - val_loss: 0.3220 - val_acc: 0.8612\n",
      "Epoch 10/20\n",
      "20000/20000 [==============================] - 3s 160us/step - loss: 0.2364 - acc: 0.9102 - val_loss: 0.3134 - val_acc: 0.8656\n",
      "Epoch 11/20\n",
      "20000/20000 [==============================] - 3s 170us/step - loss: 0.2165 - acc: 0.9190 - val_loss: 0.3133 - val_acc: 0.8672\n",
      "Epoch 12/20\n",
      "20000/20000 [==============================] - 3s 165us/step - loss: 0.2002 - acc: 0.9259 - val_loss: 0.3123 - val_acc: 0.8684\n",
      "Epoch 13/20\n",
      "20000/20000 [==============================] - 3s 151us/step - loss: 0.1852 - acc: 0.9322 - val_loss: 0.3163 - val_acc: 0.8668\n",
      "Epoch 14/20\n",
      "20000/20000 [==============================] - 3s 164us/step - loss: 0.1725 - acc: 0.9387 - val_loss: 0.3239 - val_acc: 0.8678\n",
      "Epoch 15/20\n",
      "20000/20000 [==============================] - 3s 164us/step - loss: 0.1611 - acc: 0.9439 - val_loss: 0.3228 - val_acc: 0.8672\n",
      "Epoch 16/20\n",
      "20000/20000 [==============================] - 3s 169us/step - loss: 0.1511 - acc: 0.9480 - val_loss: 0.3277 - val_acc: 0.8664\n",
      "Epoch 17/20\n",
      "20000/20000 [==============================] - 3s 163us/step - loss: 0.1416 - acc: 0.9512 - val_loss: 0.3315 - val_acc: 0.8682\n",
      "Restoring model weights from the end of the best epoch\n",
      "Epoch 00017: early stopping\n"
     ]
    }
   ],
   "source": [
    "from keras import callbacks\n",
    "\n",
    "model.compile(\n",
    "    optimizer=RMSprop(1e-4),\n",
    "    loss='binary_crossentropy',\n",
    "    metrics=['acc']\n",
    ")\n",
    "\n",
    "es = callbacks.EarlyStopping(\n",
    "    monitor='val_loss',\n",
    "    patience=5, \n",
    "    verbose=1, \n",
    "    mode='min',\n",
    "    restore_best_weights=True\n",
    ")\n",
    "\n",
    "history = model.fit(\n",
    "    x_train,\n",
    "    y_train,\n",
    "    batch_size=128,\n",
    "    epochs=20,\n",
    "    validation_split=0.2,\n",
    "    callbacks=[es]\n",
    ")"
   ]
  },
  {
   "cell_type": "code",
   "execution_count": 22,
   "metadata": {},
   "outputs": [
    {
     "data": {
      "image/png": "[encoded data removed]",
      "text/plain": [
       "<Figure size 1008x288 with 2 Axes>"
      ]
     },
     "metadata": {
      "needs_background": "light"
     },
     "output_type": "display_data"
    }
   ],
   "source": [
    "# Plot results\n",
    "acc = history.history['acc']\n",
    "val_acc = history.history['val_acc']\n",
    "loss = history.history['loss']\n",
    "val_loss = history.history['val_loss']\n",
    "\n",
    "epochs = range(1, len(acc)+1)\n",
    "\n",
    "f, ax = plt.subplots(1,2, figsize=(14,4))\n",
    "\n",
    "ax[0].plot(epochs, acc, 'bo', label='Training acc')\n",
    "ax[0].plot(epochs, val_acc, 'r', label='Validation acc')\n",
    "ax[0].set_title('Training and validation accuracy')\n",
    "ax[0].legend()\n",
    "\n",
    "ax[1].plot(epochs, loss, 'bo', label='Training loss')\n",
    "ax[1].plot(epochs, val_loss, 'r', label='Validation loss')\n",
    "ax[1].set_title('Training and validation loss')\n",
    "ax[1].legend()\n",
    "\n",
    "plt.show()"
   ]
  },
  {
   "cell_type": "code",
   "execution_count": 24,
   "metadata": {},
   "outputs": [
    {
     "name": "stdout",
     "output_type": "stream",
     "text": [
      "25000/25000 [==============================] - 3s 135us/step\n",
      "cross-entropy test loss:  0.32439740394592287\n",
      "test accuracy:  0.8623600006103516\n"
     ]
    }
   ],
   "source": [
    "# Evaluate on test data\n",
    "test_loss, test_acc = model.evaluate(x_test, y_test)\n",
    "print('cross-entropy test loss: ', test_loss)\n",
    "print('test accuracy: ', test_acc)"
   ]
  },
  {
   "cell_type": "code",
   "execution_count": null,
   "metadata": {},
   "outputs": [],
   "source": []
  }
 ],
 "metadata": {
  "kernelspec": {
   "display_name": "Python 3",
   "language": "python",
   "name": "python3"
  },
  "language_info": {
   "codemirror_mode": {
    "name": "ipython",
    "version": 3
   },
   "file_extension": ".py",
   "mimetype": "text/x-python",
   "name": "python",
   "nbconvert_exporter": "python",
   "pygments_lexer": "ipython3",
   "version": "3.6.10"
  }
 },
 "nbformat": 4,
 "nbformat_minor": 4
}
