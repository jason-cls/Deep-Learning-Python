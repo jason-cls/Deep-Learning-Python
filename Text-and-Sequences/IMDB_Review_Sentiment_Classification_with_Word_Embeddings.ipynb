{
 "cells": [
  {
   "cell_type": "markdown",
   "metadata": {
    "colab_type": "text",
    "id": "iUbtiWqvZU2n"
   },
   "source": [
    "# IMDB Review Sentiment Classification with Word Embeddings"
   ]
  },
  {
   "cell_type": "code",
   "execution_count": 0,
   "metadata": {
    "colab": {
     "base_uri": "https://localhost:8080/",
     "height": 34
    },
    "colab_type": "code",
    "id": "p81JPtd2Y0Zw",
    "outputId": "2387b64a-77ee-40dd-9908-bd09b0c7b3a7"
   },
   "outputs": [
    {
     "name": "stdout",
     "output_type": "stream",
     "text": [
      "TensorFlow 2.x selected.\n"
     ]
    }
   ],
   "source": [
    "%tensorflow_version 2.x\n",
    "from tensorflow.keras.preprocessing.text import Tokenizer\n",
    "from tensorflow.keras.preprocessing.sequence import pad_sequences\n",
    "from tensorflow.keras import models, layers\n",
    "\n",
    "import os\n",
    "import matplotlib.pyplot as plt\n",
    "import numpy as np"
   ]
  },
  {
   "cell_type": "code",
   "execution_count": 0,
   "metadata": {
    "colab": {},
    "colab_type": "code",
    "id": "aKvRHdqQZvaP"
   },
   "outputs": [],
   "source": [
    "from google.colab import drive\n",
    "drive.mount('/content/drive')"
   ]
  },
  {
   "cell_type": "code",
   "execution_count": 0,
   "metadata": {
    "colab": {},
    "colab_type": "code",
    "id": "1HedG3zogCvu"
   },
   "outputs": [],
   "source": [
    "base_dir = os.getcwd() + '/drive/My Drive/Colab Notebooks/Deep Learning in Python/Deep Learning for Text and Sequences'\n",
    "imdb_zip_path = os.path.join(base_dir, 'aclImdb.zip')\n",
    "\n",
    "# Unzip Imdb data to current working directory\n",
    "from zipfile import ZipFile\n",
    "\n",
    "with ZipFile(imdb_zip_path, 'r') as zipObj:\n",
    "  zipObj.extractall()\n"
   ]
  },
  {
   "cell_type": "code",
   "execution_count": 0,
   "metadata": {
    "colab": {},
    "colab_type": "code",
    "id": "Wn_4lGgPaDYt"
   },
   "outputs": [],
   "source": [
    "# Extract IMDB text reviews and labels (Train folder)\n",
    "imdb_dir = os.getcwd() + '/aclImdb'\n",
    "train_dir = os.path.join(imdb_dir, 'train')\n",
    "\n",
    "labels = []   #Stores sentiment label\n",
    "texts = []    #Stores reviews\n",
    "\n",
    "for label_type in ['neg', 'pos']:\n",
    "  dir_name = os.path.join(train_dir, label_type)\n",
    "  for fname in os.listdir(dir_name):\n",
    "    if fname[-4:] == '.txt':\n",
    "      with open(os.path.join(dir_name, fname)) as file:\n",
    "        texts.append(file.read())\n",
    "      if label_type == 'neg':\n",
    "        labels.append(0)\n",
    "      else:\n",
    "        labels.append(1)\n"
   ]
  },
  {
   "cell_type": "code",
   "execution_count": 0,
   "metadata": {
    "colab": {
     "base_uri": "https://localhost:8080/",
     "height": 88
    },
    "colab_type": "code",
    "id": "YGfnYb-5he2b",
    "outputId": "8af8345a-d031-4d69-d8af-c67cd8627082"
   },
   "outputs": [
    {
     "name": "stdout",
     "output_type": "stream",
     "text": [
      "25000\n",
      "[0, 0, 0, 0, 0]\n",
      "[\"This movie is flawed on many fronts. Like many before it, it portrays more of the mythology of the Alamo than the history. The production is poor, overall giving the impression of a welfare project for lots of actors who might have otherwise had to work on Hollywood Squares. This to me was the greatest flaw - I know the ages and general personalities of the real Alamo protagonists and the geriatric ensemble of TV actors chosen to portray them never let any hint of believability intrude.<br /><br />As a native Texan, I grew up with the mythology. I later learned more about the history. I can accept a decent production from either perspective (although I prefer more historical accuracy), but this never gave me a chance to enjoy it. Even John Wayne's or Fess Parker's versions had more life than this stolid mess, while being only slightly less accurate.<br /><br />Very disappointing - avoid it.\", 'This movie is not as horrible as most Sci-Fi Channel movies. I am used to seeing the gray CGI blobs and the amateurish special effects such as close-ups of fake blood that make it very obvious that the blood is strawberry syrup or some other syrup variation. However, I had thought that I had seen all the possible lows that the Sci-Fi Channel could hit. Then I saw this movie.<br /><br />Imagine a hand inside a rubberized sock that is glazed with syrup? Those are the main Alien Vampires in this movie. You can clearly see the fingers inside the rubbery sock puppets. A talking hand comes out of the guts of victims, and the Vampire who is on the Vampire Hunter\\'s team can talk to these Rubber Sock puppets in Transylvanian. How did Alien Vampires learn Transylvanian? And isn\\'t Transylvania in Romania? So shouldn\\'t they be talking Romanian? Why would some little town have their own language? If you can suspend your gag reflex and get past the talking rubber socks with the fingers clearly moving inside the Aliens\\' heads; then you have to deal with the other alien vampires. There are the \"Leatherfaces\" who like to wear the faces of their victims. Then there are the just plain ugly ones that all seem to have a lot of facial scars. Then there are the annoying Valley Girls and their boyfriends who are human traitors and sneak into space colonies so that they can sabotage the Defense Systems so that these Space Vampires can attack.<br /><br />Finally, if you think all of the above is funny and worth a laugh, you have to deal with the third rate cast of Network TV rejects that make up this team of stereotypical angry heroes which are constantly fighting among themselves. Why does almost every Sci-Fi Channel movie have to use lead characters that are annoying, abrasive, crude, or just totally unsympathetic? I found myself hoping the talking rubber socks would win.', 'So much is wrong with this abysmal little wet fart of a movie that it\\'s hard to know where to begin.<br /><br />First of all, it\\'s a remarkably un-scary scary movie, even by Amercian standards. The dialogue is cliché, the characters are two-dimensional, the writing is ho-hum, and what little story there is is neither coherent nor remotely interesting.<br /><br />We meet the following stereotypes in order: Balding Loser Guy (probably divorced, but who knows? This movie doesn\\'t tell us) with a brave heart, the Young Hero (who doesn\\'t do anything heroic at all), Brave Little Kid (with a homicidal streak a mile wide) and Black Bad-Ass Bitch (with more brawn than brains). These guys take up an ongoing fight with the Tall Scary Reaper Man and his evil Ewoks.<br /><br />Oh, and the film is full of wicked little metal orbs whoosing around menacing people. Given a chance, they perform impromptu brain surgery on those who doen\\'t have the mental acuity to duck when they come at them. Booh! Actually, one of them is haunted by a good ghost (but then again, it might be a deceitful spectre) who seems intent on helping our Brave Contagonists retrieve their young kidnapped friend.<br /><br />There is no character background or even an introduction to any of the characters. It starts with some kind of recap of the ending of the previous movie, but this doesn\\'t explain a lot. If you\\'ve seen the first two movies, fine. Otherwise you don\\'t know who these people are, how they are related, why they aren\\'t in school or at work, or why you should care whether they live or die. Consequently, you don\\'t. The only point of interest becomes any splatter effects. And there aren\\'t enough of those to keep you awake.<br /><br />Of potenial interest/amusement are the three Raider Punks, as stupid as they are evil, who menace Our Heroes. But they don\\'t get much screen time. They are offed almost immediately. Then they are buried (why anybody should take the time is beyond me), then they appear again as Evil Raider Punk Zombies. Only to be offed again, literally within a minute.<br /><br />The rest of the movie mainly seems to consist of Caspar the Friendly Ghost appearing and disappearing, driving around looking for places, and Balding Loser trying to score som Bad Black Bitch Booty, using pickup lines that would embarrass a mentally retarded teenager. No dice there; not even some gratuitous sex could have saved this movie, so good thing there never is any.<br /><br />The head baddie, called the Tall Man, doesn\\'t manage to scare anyone older than 3 years; howling \"Booooy!\" every five minutes isn\\'t enough. Why he, with his amazing telekinetic powers and uncanny upper-body strength, doesn\\'t simply squash our heroes like bugs isn\\'t explained. Instead, he delegates the job to his inept retarded little minions, who never manage to kill anyone before being shot to hell.<br /><br />Filmgoers who like masterpieces like \"Friday 13th part XXXXVIII: Jason goes to college\" might find some entertainment. The rest of us, who have developed pubic hair, will be bored out of our skulls.', 'This comedy has some tolerably funny stuff in it, surrounded by a lot of unfunny stuff. Just about every scene involving the servants of the castle and their silly antics is a waste of time. And the plotting is so sloppy that it makes you wonder if they actually had a script ready before they started filming this, or they were simply making it all up as they went along. (*1/2)', 'This movie starred a totally forgotten star from the 1930s, Jack Pearl (radio\\'s \"Baron Munchausen\") as well as Jimmy Durante. However, 7-1/2 decades later, it\\'s being billed as a Three Stooges film because they are the only ones in the film who the average person would recognize today. Film fanatics will also recognize the wonderful Edna May Oliver as well as Zazu Pitts.<br /><br />As for the Stooges, this is a film from there very early days--before MGM had any idea what to do with the team. At this point, they were known as \"Ted Healy and his Stooges\" as Healy was the front man. Fortunately for the Stooges, they soon left this nasty and rather untalented man (read up on him--you\\'ll see what I mean) and the rest is history. Within a year, they were making very successful shorts for Columbia and executives at MGM were soon kicking themselves for losing the team. This sort of thing was a common occurrence at MGM, a great studio which had no idea what to do with comedy (such as the films of Buster Keaton, Laurel and Hardy, Abbott and Costello and others). In fact, up until they left for Columbia, MGM put them in a wide variety of odd film roles--including acting with Clark Gable and Joan Crawford in DANCING LADY. And, oddly, in this film they didn\\'t act as a team--they just did various supporting roles, such as Larry playing the piano!<br /><br />This particular film begins with Pearl and Durante lost in the African jungle. When they are rescued and brought home, all sense of structure to the film falls apart and the film becomes almost like a variety show--punctuated by scenes with the leads here and there. As for Pearl, I could really see why he never made a successful transition to films, as he has the personality of a slug (but slightly less welcome). As for Durante, I never knew what the public saw in him--as least as far as his films are concerned--he was loud and...loud! He apparently took time off from helping MGM to ruin Buster Keaton\\'s career to make this film. Together, Pearl and Durante rely on lots of verbal humor(?) and Vaudeville-style routines that tend to fall rather flat.<br /><br />In this film, the Stooges they didn\\'t yet have the right chemistry. Seeing Healy doing the job that Moe did in their later films is odd. What they did in the film was pretty good, but because all the segments were short, they came on and off camera too quickly to allow them to really get into their routines. Stooges fans might be very frustrated at this, though die-hard fans may want to see this so that they can complete their life-long goal of seeing everything Stooge--even the rotten Joe DeRita and Joe Besser films (oh, and did they got bad after the deaths of Shemp and Curly).<br /><br />Overall, the film is rather dull and disappointing. However, there are a couple interesting things to look for in the mess. At about the 13 minute mark, you will see a brief scene where a tour guide on a bus is singing. Look carefully, as this is Walter Brennan in a role you\\'d certainly never expect! Another unusual thing to look for in the film is the \"Clean as a Whistle\" song starting at about 22 minutes into the film. This song and dance number is clearly an example of a so-called \"Pre-Code\" scene that never would have been allowed in films after 1934 (when the Production Code was strengthened). Despite the word \"Clean\" in the title, it\\'s a very titillating number with naked women showing lots of flesh--enough to stimulate but not enough to really show anything! It\\'s quite shocking when seen today, though such excesses were pretty common in the early 1930s. Finally, at the 63 minute mark, see Jimmy Durante set race relations back a few decades. See the film, you\\'ll see that I mean!']\n"
     ]
    }
   ],
   "source": [
    "print(len(labels))\n",
    "print(labels[:5])\n",
    "print(texts[:5])"
   ]
  },
  {
   "cell_type": "markdown",
   "metadata": {
    "colab_type": "text",
    "id": "afgwZoQRkHlf"
   },
   "source": [
    "Since pretrained word embeddings will be used, we will restrict the amount of training data available since these pretrained embeddings tend to perform well on problems with little data."
   ]
  },
  {
   "cell_type": "code",
   "execution_count": 0,
   "metadata": {
    "colab": {
     "base_uri": "https://localhost:8080/",
     "height": 68
    },
    "colab_type": "code",
    "id": "7E0iej6jhhhi",
    "outputId": "3f584e78-d045-455b-d5f3-052ada06289e"
   },
   "outputs": [
    {
     "name": "stdout",
     "output_type": "stream",
     "text": [
      "88582 unique tokens\n",
      "Data tensor shape:  (25000, 100)\n",
      "Label tensor shape:  (25000,)\n"
     ]
    }
   ],
   "source": [
    "# Tokenization of text data\n",
    "maxlen = 100\n",
    "training_samples = 200    # Limiting number of train samples\n",
    "validation_samples = 10000\n",
    "max_words = 10000\n",
    "\n",
    "tokenizer = Tokenizer(num_words=max_words)\n",
    "tokenizer.fit_on_texts(texts)\n",
    "sequences = tokenizer.texts_to_sequences(texts)\n",
    "\n",
    "word_index = tokenizer.word_index\n",
    "print(len(word_index), 'unique tokens')\n",
    "\n",
    "data = pad_sequences(sequences, maxlen=maxlen) #All sequences are length 100\n",
    "labels = np.asarray(labels)\n",
    "print('Data tensor shape: ', data.shape)\n",
    "print('Label tensor shape: ', labels.shape)\n",
    "\n",
    "# Shuffle data\n",
    "indices = np.arange(data.shape[0])\n",
    "np.random.shuffle(indices)\n",
    "data = data[indices]\n",
    "labels = labels[indices]\n",
    "\n",
    "# Train / Validation Splits\n",
    "x_train = data[:training_samples]\n",
    "y_train = labels[:training_samples]\n",
    "x_val = data[training_samples : training_samples+validation_samples]\n",
    "y_val = labels[training_samples : training_samples+validation_samples]"
   ]
  },
  {
   "cell_type": "markdown",
   "metadata": {
    "colab_type": "text",
    "id": "k8SY7kjfsL6I"
   },
   "source": [
    "Next, we will use 100 dimensional [GloVe word embeddings pretrained on 2014 English Wikipedia text (glove.6B.zip)](https://nlp.stanford.edu/projects/glove/)."
   ]
  },
  {
   "cell_type": "code",
   "execution_count": 0,
   "metadata": {
    "colab": {
     "base_uri": "https://localhost:8080/",
     "height": 34
    },
    "colab_type": "code",
    "id": "tS8Og4yOnd99",
    "outputId": "78cf2cbc-ebc6-415c-982b-bc4c84cd9339"
   },
   "outputs": [
    {
     "name": "stdout",
     "output_type": "stream",
     "text": [
      "Number of word vectors:  400000\n"
     ]
    }
   ],
   "source": [
    "# Import pretrained word embeddings\n",
    "glove_zip_path = os.path.join(base_dir, 'glove.6B.zip')\n",
    "\n",
    "with ZipFile(glove_zip_path, 'r') as zipObj:\n",
    "  zipObj.extractall()\n",
    "\n",
    "glove_dir = os.getcwd() + '/glove.6B'\n",
    "embeddings_index = {}   #Stores GloVe word embeddings\n",
    "\n",
    "with open('glove.6B.100d.txt') as f:\n",
    "  for line in f:\n",
    "    values = line.split()\n",
    "    word = values[0]\n",
    "    wordVec =  np.asarray(values[1:], dtype='float32')\n",
    "    embeddings_index[word] = wordVec\n",
    "\n",
    "print('Number of word vectors: ', len(embeddings_index))"
   ]
  },
  {
   "cell_type": "markdown",
   "metadata": {
    "colab_type": "text",
    "id": "vxFzxGW6wmBB"
   },
   "source": [
    "Now we need to format the word embeddings into a matrix of shape `(max_words, embedding_dim)` so it can be input into a Keras `Embedding` layer."
   ]
  },
  {
   "cell_type": "code",
   "execution_count": 0,
   "metadata": {
    "colab": {},
    "colab_type": "code",
    "id": "0FBboJY6oXmW"
   },
   "outputs": [],
   "source": [
    "# Word embeddings matrix\n",
    "embedding_dim = 100\n",
    "embedding_matrix = np.zeros((max_words, embedding_dim))\n",
    "\n",
    "for word, i in word_index.items():\n",
    "  if i < max_words:\n",
    "    embedding_vector = embeddings_index.get(word)\n",
    "    # Words not found are left as 0 vectors\n",
    "    if embedding_vector is not None:\n",
    "      embedding_matrix[i] = embedding_vector"
   ]
  },
  {
   "cell_type": "markdown",
   "metadata": {
    "colab_type": "text",
    "id": "UPC6PWIHzk11"
   },
   "source": [
    "Finally lets define our model."
   ]
  },
  {
   "cell_type": "code",
   "execution_count": 0,
   "metadata": {
    "colab": {},
    "colab_type": "code",
    "id": "mvBy-7ADxvlL"
   },
   "outputs": [],
   "source": [
    "# Model definition\n",
    "model = models.Sequential()\n",
    "model.add(layers.Embedding(max_words, embedding_dim, input_length=maxlen))\n",
    "model.add(layers.Flatten())\n",
    "model.add(layers.Dense(32, activation='relu'))\n",
    "model.add(layers.Dense(1, activation='sigmoid'))"
   ]
  },
  {
   "cell_type": "code",
   "execution_count": 0,
   "metadata": {
    "colab": {
     "base_uri": "https://localhost:8080/",
     "height": 289
    },
    "colab_type": "code",
    "id": "IPJIZ9nU0liy",
    "outputId": "c146abc7-a9c7-4def-c42f-0b86523d5172"
   },
   "outputs": [
    {
     "name": "stdout",
     "output_type": "stream",
     "text": [
      "Model: \"sequential\"\n",
      "_________________________________________________________________\n",
      "Layer (type)                 Output Shape              Param #   \n",
      "=================================================================\n",
      "embedding (Embedding)        (None, 100, 100)          1000000   \n",
      "_________________________________________________________________\n",
      "flatten (Flatten)            (None, 10000)             0         \n",
      "_________________________________________________________________\n",
      "dense (Dense)                (None, 32)                320032    \n",
      "_________________________________________________________________\n",
      "dense_1 (Dense)              (None, 1)                 33        \n",
      "=================================================================\n",
      "Total params: 1,320,065\n",
      "Trainable params: 320,065\n",
      "Non-trainable params: 1,000,000\n",
      "_________________________________________________________________\n"
     ]
    }
   ],
   "source": [
    "# Load embedding_matrix and Freeze pretrained weights\n",
    "model.layers[0].set_weights([embedding_matrix])\n",
    "model.layers[0].trainable = False\n",
    "\n",
    "model.summary()"
   ]
  },
  {
   "cell_type": "code",
   "execution_count": 0,
   "metadata": {
    "colab": {
     "base_uri": "https://localhost:8080/",
     "height": 374
    },
    "colab_type": "code",
    "id": "9ip7e2631d_f",
    "outputId": "bbebbceb-945f-4cd3-9650-cd64043f466b"
   },
   "outputs": [
    {
     "name": "stdout",
     "output_type": "stream",
     "text": [
      "Train on 200 samples, validate on 10000 samples\n",
      "Epoch 1/10\n",
      "200/200 [==============================] - 3s 16ms/sample - loss: 1.2254 - accuracy: 0.4850 - val_loss: 0.6955 - val_accuracy: 0.4942\n",
      "Epoch 2/10\n",
      "200/200 [==============================] - 1s 4ms/sample - loss: 0.7290 - accuracy: 0.5800 - val_loss: 0.8869 - val_accuracy: 0.4950\n",
      "Epoch 3/10\n",
      "200/200 [==============================] - 1s 4ms/sample - loss: 0.5080 - accuracy: 0.8150 - val_loss: 0.9131 - val_accuracy: 0.4950\n",
      "Epoch 4/10\n",
      "200/200 [==============================] - 1s 4ms/sample - loss: 0.4209 - accuracy: 0.7800 - val_loss: 0.6853 - val_accuracy: 0.5633\n",
      "Epoch 5/10\n",
      "200/200 [==============================] - 1s 4ms/sample - loss: 0.2978 - accuracy: 0.9500 - val_loss: 0.8960 - val_accuracy: 0.4973\n",
      "Epoch 6/10\n",
      "200/200 [==============================] - 1s 4ms/sample - loss: 0.2235 - accuracy: 0.9650 - val_loss: 0.6932 - val_accuracy: 0.5699\n",
      "Epoch 7/10\n",
      "200/200 [==============================] - 1s 4ms/sample - loss: 0.1894 - accuracy: 0.9800 - val_loss: 0.7748 - val_accuracy: 0.5294\n",
      "Epoch 8/10\n",
      "200/200 [==============================] - 1s 4ms/sample - loss: 0.1479 - accuracy: 0.9950 - val_loss: 1.2349 - val_accuracy: 0.5090\n",
      "Epoch 9/10\n",
      "200/200 [==============================] - 1s 4ms/sample - loss: 0.1640 - accuracy: 0.9500 - val_loss: 0.7304 - val_accuracy: 0.5647\n",
      "Epoch 10/10\n",
      "200/200 [==============================] - 1s 5ms/sample - loss: 0.0484 - accuracy: 1.0000 - val_loss: 0.8084 - val_accuracy: 0.5525\n"
     ]
    }
   ],
   "source": [
    "# Train model\n",
    "model.compile(\n",
    "    optimizer='rmsprop',\n",
    "    loss='binary_crossentropy',\n",
    "    metrics=['accuracy']\n",
    ")\n",
    "\n",
    "history = model.fit(\n",
    "    x_train,\n",
    "    y_train,\n",
    "    batch_size=32,\n",
    "    epochs=10,\n",
    "    validation_data=(x_val, y_val)\n",
    ")\n",
    "\n",
    "model.save_weights(base_dir + '/pre_trained_glove_model.h5')"
   ]
  },
  {
   "cell_type": "code",
   "execution_count": 0,
   "metadata": {
    "colab": {
     "base_uri": "https://localhost:8080/",
     "height": 351
    },
    "colab_type": "code",
    "id": "0gMpSOqyAvro",
    "outputId": "8ed42ed9-4d6e-40ff-ddd7-aaf5ed288a0d"
   },
   "outputs": [
    {
     "data": {
      "image/png": "[encoded data removed]",
      "text/plain": [
       "<Figure size 1080x360 with 2 Axes>"
      ]
     },
     "metadata": {
      "tags": []
     },
     "output_type": "display_data"
    }
   ],
   "source": [
    "# Plot results\n",
    "acc = history.history['accuracy']\n",
    "val_acc = history.history['val_accuracy']\n",
    "loss = history.history['loss']\n",
    "val_loss = history.history['val_loss']\n",
    "\n",
    "epochs = range(1, len(acc)+1)\n",
    "\n",
    "fig, ax = plt.subplots(1, 2, figsize=(15,5))\n",
    "\n",
    "ax[0].plot(epochs, acc, 'bo', label='Training acc')\n",
    "ax[0].plot(epochs, val_acc, 'r', label='Validation acc')\n",
    "ax[0].set_title('Training and validation accuracy\\n Pretrained GloVe - 200 train samples')\n",
    "ax[0].legend()\n",
    "\n",
    "ax[1].plot(epochs, loss, 'bo', label='Training loss')\n",
    "ax[1].plot(epochs, val_loss, 'r', label='Validation loss')\n",
    "ax[1].set_title('Training and validation loss\\n Pretrained GloVe - 200 train samples')\n",
    "ax[1].legend()\n",
    "plt.show()"
   ]
  },
  {
   "cell_type": "markdown",
   "metadata": {
    "colab_type": "text",
    "id": "gPrSoTUEjk2f"
   },
   "source": [
    "Due to the small number of training examples the model starts overfitting after only a few epochs. A validation accuracy of ~55% is achieved by this model.\n",
    "\n",
    "Next, we will train the same model, without using the preloaded GloVe weights. This type of task-specific embedding scheme is useful when there is a lot of data available."
   ]
  },
  {
   "cell_type": "code",
   "execution_count": 0,
   "metadata": {
    "colab": {
     "base_uri": "https://localhost:8080/",
     "height": 289
    },
    "colab_type": "code",
    "id": "0g3D6JALMWef",
    "outputId": "09fcea3c-9604-4e25-deff-383c882e9742"
   },
   "outputs": [
    {
     "name": "stdout",
     "output_type": "stream",
     "text": [
      "Model: \"sequential_1\"\n",
      "_________________________________________________________________\n",
      "Layer (type)                 Output Shape              Param #   \n",
      "=================================================================\n",
      "embedding_1 (Embedding)      (None, 100, 100)          1000000   \n",
      "_________________________________________________________________\n",
      "flatten_1 (Flatten)          (None, 10000)             0         \n",
      "_________________________________________________________________\n",
      "dense_2 (Dense)              (None, 32)                320032    \n",
      "_________________________________________________________________\n",
      "dense_3 (Dense)              (None, 1)                 33        \n",
      "=================================================================\n",
      "Total params: 1,320,065\n",
      "Trainable params: 1,320,065\n",
      "Non-trainable params: 0\n",
      "_________________________________________________________________\n"
     ]
    }
   ],
   "source": [
    "# Model definition\n",
    "model = models.Sequential()\n",
    "model.add(layers.Embedding(max_words, embedding_dim, input_length=maxlen))\n",
    "model.add(layers.Flatten())\n",
    "model.add(layers.Dense(32, activation='relu'))\n",
    "model.add(layers.Dense(1, activation='sigmoid'))\n",
    "\n",
    "model.summary()"
   ]
  },
  {
   "cell_type": "code",
   "execution_count": 0,
   "metadata": {
    "colab": {
     "base_uri": "https://localhost:8080/",
     "height": 374
    },
    "colab_type": "code",
    "id": "RRQFKELokxUT",
    "outputId": "4e0019e7-f46e-434b-e708-0ddbb60d1315"
   },
   "outputs": [
    {
     "name": "stdout",
     "output_type": "stream",
     "text": [
      "Train on 200 samples, validate on 10000 samples\n",
      "Epoch 1/10\n",
      "200/200 [==============================] - 1s 7ms/sample - loss: 0.6997 - accuracy: 0.4950 - val_loss: 0.6936 - val_accuracy: 0.4981\n",
      "Epoch 2/10\n",
      "200/200 [==============================] - 1s 4ms/sample - loss: 0.5130 - accuracy: 0.9850 - val_loss: 0.6944 - val_accuracy: 0.5160\n",
      "Epoch 3/10\n",
      "200/200 [==============================] - 1s 4ms/sample - loss: 0.3050 - accuracy: 0.9900 - val_loss: 0.7049 - val_accuracy: 0.5133\n",
      "Epoch 4/10\n",
      "200/200 [==============================] - 1s 4ms/sample - loss: 0.1487 - accuracy: 0.9950 - val_loss: 0.6970 - val_accuracy: 0.5252\n",
      "Epoch 5/10\n",
      "200/200 [==============================] - 1s 5ms/sample - loss: 0.0732 - accuracy: 1.0000 - val_loss: 0.7047 - val_accuracy: 0.5271\n",
      "Epoch 6/10\n",
      "200/200 [==============================] - 1s 4ms/sample - loss: 0.0375 - accuracy: 1.0000 - val_loss: 0.7124 - val_accuracy: 0.5183\n",
      "Epoch 7/10\n",
      "200/200 [==============================] - 1s 4ms/sample - loss: 0.0210 - accuracy: 1.0000 - val_loss: 0.7110 - val_accuracy: 0.5271\n",
      "Epoch 8/10\n",
      "200/200 [==============================] - 1s 4ms/sample - loss: 0.0115 - accuracy: 1.0000 - val_loss: 0.7251 - val_accuracy: 0.5264\n",
      "Epoch 9/10\n",
      "200/200 [==============================] - 1s 5ms/sample - loss: 0.0070 - accuracy: 1.0000 - val_loss: 0.7218 - val_accuracy: 0.5278\n",
      "Epoch 10/10\n",
      "200/200 [==============================] - 1s 4ms/sample - loss: 0.0042 - accuracy: 1.0000 - val_loss: 0.7255 - val_accuracy: 0.5279\n"
     ]
    }
   ],
   "source": [
    "model.compile(\n",
    "    optimizer='rmsprop',\n",
    "    loss='binary_crossentropy',\n",
    "    metrics=['accuracy']\n",
    ")\n",
    "\n",
    "history = model.fit(\n",
    "    x_train,\n",
    "    y_train,\n",
    "    epochs=10,\n",
    "    batch_size=32,\n",
    "    validation_data=(x_val, y_val)\n",
    ")"
   ]
  },
  {
   "cell_type": "code",
   "execution_count": 0,
   "metadata": {
    "colab": {
     "base_uri": "https://localhost:8080/",
     "height": 351
    },
    "colab_type": "code",
    "id": "4P8ihwOKlqEr",
    "outputId": "cf75511a-60ce-46e5-9745-d6899a8f0d5a"
   },
   "outputs": [
    {
     "data": {
      "image/png": "[encoded data removed]",
      "text/plain": [
       "<Figure size 1080x360 with 2 Axes>"
      ]
     },
     "metadata": {
      "tags": []
     },
     "output_type": "display_data"
    }
   ],
   "source": [
    "# Plot results\n",
    "acc = history.history['accuracy']\n",
    "val_acc = history.history['val_accuracy']\n",
    "loss = history.history['loss']\n",
    "val_loss = history.history['val_loss']\n",
    "\n",
    "epochs = range(1, len(acc)+1)\n",
    "\n",
    "fig, ax = plt.subplots(1, 2, figsize=(15,5))\n",
    "\n",
    "ax[0].plot(epochs, acc, 'bo', label='Training acc')\n",
    "ax[0].plot(epochs, val_acc, 'r', label='Validation acc')\n",
    "ax[0].set_title('Training and validation accuracy\\n Custom Embedding - 200 train samples')\n",
    "ax[0].legend()\n",
    "\n",
    "ax[1].plot(epochs, loss, 'bo', label='Training loss')\n",
    "ax[1].plot(epochs, val_loss, 'r', label='Validation loss')\n",
    "ax[1].set_title('Training and validation loss\\n Custom Embedding - 200 train samples')\n",
    "ax[1].legend()\n",
    "plt.show()"
   ]
  },
  {
   "cell_type": "markdown",
   "metadata": {
    "colab_type": "text",
    "id": "fpSqIijPmdTy"
   },
   "source": [
    "Using task specific word embeddings, we find that validation accuracy stalls at around 52%, which is worse than when using pretrained embeddings.\n",
    "\n",
    "Now we will increase the number of training samples from 200 to 1000 to see how model performance changes with respect to the embeddings. All other model hyperparameters will be kept the same."
   ]
  },
  {
   "cell_type": "code",
   "execution_count": 0,
   "metadata": {
    "colab": {},
    "colab_type": "code",
    "id": "XL6H23belxKW"
   },
   "outputs": [],
   "source": [
    "training_samples = 1000    # Increase number of train samples\n",
    "\n",
    "# Train / Validation Splits\n",
    "x_train = data[:training_samples]\n",
    "y_train = labels[:training_samples]\n",
    "x_val = data[training_samples : training_samples+validation_samples]\n",
    "y_val = labels[training_samples : training_samples+validation_samples]"
   ]
  },
  {
   "cell_type": "code",
   "execution_count": 0,
   "metadata": {
    "colab": {
     "base_uri": "https://localhost:8080/",
     "height": 289
    },
    "colab_type": "code",
    "id": "wkEJ-fn6n57u",
    "outputId": "9420118d-b5ca-4037-a2fb-880c0c9080ce"
   },
   "outputs": [
    {
     "name": "stdout",
     "output_type": "stream",
     "text": [
      "Model: \"sequential_2\"\n",
      "_________________________________________________________________\n",
      "Layer (type)                 Output Shape              Param #   \n",
      "=================================================================\n",
      "embedding_2 (Embedding)      (None, 100, 100)          1000000   \n",
      "_________________________________________________________________\n",
      "flatten_2 (Flatten)          (None, 10000)             0         \n",
      "_________________________________________________________________\n",
      "dense_4 (Dense)              (None, 32)                320032    \n",
      "_________________________________________________________________\n",
      "dense_5 (Dense)              (None, 1)                 33        \n",
      "=================================================================\n",
      "Total params: 1,320,065\n",
      "Trainable params: 1,320,065\n",
      "Non-trainable params: 0\n",
      "_________________________________________________________________\n"
     ]
    }
   ],
   "source": [
    "# Model definition\n",
    "model = models.Sequential()\n",
    "model.add(layers.Embedding(max_words, embedding_dim, input_length=maxlen))\n",
    "model.add(layers.Flatten())\n",
    "model.add(layers.Dense(32, activation='relu'))\n",
    "model.add(layers.Dense(1, activation='sigmoid'))\n",
    "\n",
    "model.summary()"
   ]
  },
  {
   "cell_type": "code",
   "execution_count": 0,
   "metadata": {
    "colab": {
     "base_uri": "https://localhost:8080/",
     "height": 374
    },
    "colab_type": "code",
    "id": "MZrfI__8n9CT",
    "outputId": "b8c8e490-47c8-47bc-9380-1d3626561d03"
   },
   "outputs": [
    {
     "name": "stdout",
     "output_type": "stream",
     "text": [
      "Train on 1000 samples, validate on 10000 samples\n",
      "Epoch 1/10\n",
      "1000/1000 [==============================] - 2s 2ms/sample - loss: 0.6923 - accuracy: 0.5360 - val_loss: 0.6843 - val_accuracy: 0.5808\n",
      "Epoch 2/10\n",
      "1000/1000 [==============================] - 1s 1ms/sample - loss: 0.4149 - accuracy: 0.9740 - val_loss: 0.6568 - val_accuracy: 0.6103\n",
      "Epoch 3/10\n",
      "1000/1000 [==============================] - 1s 1ms/sample - loss: 0.1018 - accuracy: 0.9980 - val_loss: 0.6445 - val_accuracy: 0.6364\n",
      "Epoch 4/10\n",
      "1000/1000 [==============================] - 1s 1ms/sample - loss: 0.0171 - accuracy: 1.0000 - val_loss: 0.6630 - val_accuracy: 0.6430\n",
      "Epoch 5/10\n",
      "1000/1000 [==============================] - 1s 1ms/sample - loss: 0.0031 - accuracy: 1.0000 - val_loss: 0.6847 - val_accuracy: 0.6482\n",
      "Epoch 6/10\n",
      "1000/1000 [==============================] - 1s 1ms/sample - loss: 5.7166e-04 - accuracy: 1.0000 - val_loss: 0.7141 - val_accuracy: 0.6522\n",
      "Epoch 7/10\n",
      "1000/1000 [==============================] - 1s 1ms/sample - loss: 9.2819e-05 - accuracy: 1.0000 - val_loss: 0.7400 - val_accuracy: 0.6604\n",
      "Epoch 8/10\n",
      "1000/1000 [==============================] - 1s 1ms/sample - loss: 1.7861e-05 - accuracy: 1.0000 - val_loss: 0.7887 - val_accuracy: 0.6618\n",
      "Epoch 9/10\n",
      "1000/1000 [==============================] - 1s 1ms/sample - loss: 3.9135e-06 - accuracy: 1.0000 - val_loss: 0.8223 - val_accuracy: 0.6647\n",
      "Epoch 10/10\n",
      "1000/1000 [==============================] - 1s 1ms/sample - loss: 1.1910e-06 - accuracy: 1.0000 - val_loss: 0.8695 - val_accuracy: 0.6641\n"
     ]
    }
   ],
   "source": [
    "model.compile(\n",
    "    optimizer='rmsprop',\n",
    "    loss='binary_crossentropy',\n",
    "    metrics=['accuracy']\n",
    ")\n",
    "\n",
    "history = model.fit(\n",
    "    x_train,\n",
    "    y_train,\n",
    "    epochs=10,\n",
    "    batch_size=32,\n",
    "    validation_data=(x_val, y_val)\n",
    ")"
   ]
  },
  {
   "cell_type": "code",
   "execution_count": 0,
   "metadata": {
    "colab": {
     "base_uri": "https://localhost:8080/",
     "height": 351
    },
    "colab_type": "code",
    "id": "nti92e5SoFLC",
    "outputId": "121fdf01-806d-4fe2-866e-3d0b423bd67b"
   },
   "outputs": [
    {
     "data": {
      "image/png": "[encoded data removed]",
      "text/plain": [
       "<Figure size 1080x360 with 2 Axes>"
      ]
     },
     "metadata": {
      "tags": []
     },
     "output_type": "display_data"
    }
   ],
   "source": [
    "# Plot results\n",
    "acc = history.history['accuracy']\n",
    "val_acc = history.history['val_accuracy']\n",
    "loss = history.history['loss']\n",
    "val_loss = history.history['val_loss']\n",
    "\n",
    "epochs = range(1, len(acc)+1)\n",
    "\n",
    "fig, ax = plt.subplots(1, 2, figsize=(15,5))\n",
    "\n",
    "ax[0].plot(epochs, acc, 'bo', label='Training acc')\n",
    "ax[0].plot(epochs, val_acc, 'r', label='Validation acc')\n",
    "ax[0].set_title('Training and validation accuracy\\n Custom Embedding - 1000 train samples')\n",
    "ax[0].legend()\n",
    "\n",
    "ax[1].plot(epochs, loss, 'bo', label='Training loss')\n",
    "ax[1].plot(epochs, val_loss, 'r', label='Validation loss')\n",
    "ax[1].set_title('Training and validation loss\\n Custom Embedding - 1000 train samples')\n",
    "ax[1].legend()\n",
    "plt.show()"
   ]
  },
  {
   "cell_type": "markdown",
   "metadata": {
    "colab_type": "text",
    "id": "JUcsoseZpFxD"
   },
   "source": [
    "Using 1000 training samples instead of 200, the model now produces a validation accuracy of ~65%, which is more than a 10% increase."
   ]
  },
  {
   "cell_type": "code",
   "execution_count": 0,
   "metadata": {
    "colab": {
     "base_uri": "https://localhost:8080/",
     "height": 51
    },
    "colab_type": "code",
    "id": "N0eTzCa_oF8S",
    "outputId": "a3322d23-d7e6-4150-f0bd-834584803dea"
   },
   "outputs": [
    {
     "name": "stdout",
     "output_type": "stream",
     "text": [
      "25000/25000 [==============================] - 2s 86us/sample - loss: 0.8875 - accuracy: 0.6568\n"
     ]
    },
    {
     "data": {
      "text/plain": [
       "[0.8874712087440491, 0.6568]"
      ]
     },
     "execution_count": 23,
     "metadata": {
      "tags": []
     },
     "output_type": "execute_result"
    }
   ],
   "source": [
    "# Load & Tokenize test set\n",
    "test_dir = os.path.join(imdb_dir, 'test')\n",
    "\n",
    "labels=[]\n",
    "texts=[]\n",
    "\n",
    "for label_type in ['neg','pos']:\n",
    "  dir_name = os.path.join(test_dir, label_type)\n",
    "  for fname in sorted(os.listdir(dir_name)):\n",
    "    if fname[-4:] == '.txt':\n",
    "      with open(os.path.join(dir_name, fname)) as file:\n",
    "        texts.append(file.read())\n",
    "      if label_type == 'neg':\n",
    "        labels.append(0)\n",
    "      else:\n",
    "        labels.append(1)\n",
    "\n",
    "sequences = tokenizer.texts_to_sequences(texts)\n",
    "x_test = pad_sequences(sequences, maxlen=maxlen)\n",
    "y_test = np.asarray(labels)\n",
    "\n",
    "# Evaluate model on test set\n",
    "model.evaluate(x_test,y_test)"
   ]
  },
  {
   "cell_type": "markdown",
   "metadata": {
    "colab_type": "text",
    "id": "J7M4DuK_wtVn"
   },
   "source": [
    "Evaluating the model on the test set, it achieves an accuracy of 66% which is comparable to the validation set.\n",
    "\n",
    "If we were to continue improving upon this model, the following next steps would be considered:\n",
    "- Increasing the number of training samples\n",
    "- Control overfitting with a dropout layer, or weight decay\n",
    "- Increasing the number of training epochs"
   ]
  },
  {
   "cell_type": "code",
   "execution_count": 0,
   "metadata": {
    "colab": {},
    "colab_type": "code",
    "id": "VOQzq1VRwKue"
   },
   "outputs": [],
   "source": []
  }
 ],
 "metadata": {
  "accelerator": "GPU",
  "colab": {
   "collapsed_sections": [],
   "name": "IMDB Review Sentiment Classification with Word Embeddings",
   "provenance": []
  },
  "kernelspec": {
   "display_name": "Python 3",
   "language": "python",
   "name": "python3"
  },
  "language_info": {
   "codemirror_mode": {
    "name": "ipython",
    "version": 3
   },
   "file_extension": ".py",
   "mimetype": "text/x-python",
   "name": "python",
   "nbconvert_exporter": "python",
   "pygments_lexer": "ipython3",
   "version": "3.6.10"
  }
 },
 "nbformat": 4,
 "nbformat_minor": 1
}
